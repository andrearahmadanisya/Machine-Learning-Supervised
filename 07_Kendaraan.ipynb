{
  "nbformat": 4,
  "nbformat_minor": 0,
  "metadata": {
    "colab": {
      "name": "07_Kendaraan",
      "provenance": [],
      "collapsed_sections": [
        "WRsqPdCoUXaA",
        "_jg5ml8JUfDq",
        "KKLGH_JfR7WF",
        "Nh42sIkQSAxC",
        "geVyrOepYkTX",
        "14eidlX4eRg3"
      ]
    },
    "kernelspec": {
      "display_name": "Python 3",
      "language": "python",
      "name": "python3"
    },
    "language_info": {
      "codemirror_mode": {
        "name": "ipython",
        "version": 3
      },
      "file_extension": ".py",
      "mimetype": "text/x-python",
      "name": "python",
      "nbconvert_exporter": "python",
      "pygments_lexer": "ipython3",
      "version": "3.7.1"
    }
  },
  "cells": [
    {
      "cell_type": "markdown",
      "metadata": {
        "id": "kLXYVZkfafBH"
      },
      "source": [
        "#Tugas Besar Machine Learning Supervised\n",
        "\n",
        "Kelompok 07\n",
        "\n",
        "*   Nama : Andrea Rahmadanisya\n",
        "*   NIM : 1301184146\n",
        "\n"
      ]
    },
    {
      "cell_type": "markdown",
      "metadata": {
        "id": "fEyoDP1EWmGS"
      },
      "source": [
        "# Load Data"
      ]
    },
    {
      "cell_type": "code",
      "metadata": {
        "id": "aWYjIk95WxkJ"
      },
      "source": [
        "import pandas as pd\n",
        "import numpy as np\n",
        "import matplotlib.pyplot as plt\n",
        "import random\n",
        "import copy\n",
        "import seaborn as sns\n",
        "sns.set_palette('Pastel1')\n",
        "from sklearn.preprocessing import LabelEncoder\n",
        "#lib for model\n",
        "from sklearn.naive_bayes import GaussianNB\n",
        "from sklearn.tree import DecisionTreeClassifier \n",
        "from sklearn.neighbors import KNeighborsClassifier\n",
        "from sklearn.ensemble import RandomForestClassifier\n",
        "from sklearn.svm import SVC\n",
        "from sklearn.metrics import f1_score as f1\n",
        "from sklearn.metrics import accuracy_score as acc\n",
        "from sklearn.metrics import precision_score as prec\n",
        "from sklearn.metrics import recall_score as recall"
      ],
      "execution_count": null,
      "outputs": []
    },
    {
      "cell_type": "code",
      "metadata": {
        "colab": {
          "base_uri": "https://localhost:8080/"
        },
        "id": "UL3nDo5LFY_V",
        "outputId": "6b2139ef-f931-4abe-a286-b125efd8a552"
      },
      "source": [
        "!pip install pip install six\n",
        "# !pip install --upgrade sklearn"
      ],
      "execution_count": null,
      "outputs": [
        {
          "output_type": "stream",
          "text": [
            "Requirement already satisfied: pip in /usr/local/lib/python3.7/dist-packages (19.3.1)\n",
            "Requirement already satisfied: install in /usr/local/lib/python3.7/dist-packages (1.3.4)\n",
            "Requirement already satisfied: six in /usr/local/lib/python3.7/dist-packages (1.15.0)\n",
            "Requirement already up-to-date: sklearn in /usr/local/lib/python3.7/dist-packages (0.0)\n",
            "Requirement already satisfied, skipping upgrade: scikit-learn in /usr/local/lib/python3.7/dist-packages (from sklearn) (0.22.2.post1)\n",
            "Requirement already satisfied, skipping upgrade: joblib>=0.11 in /usr/local/lib/python3.7/dist-packages (from scikit-learn->sklearn) (1.0.1)\n",
            "Requirement already satisfied, skipping upgrade: scipy>=0.17.0 in /usr/local/lib/python3.7/dist-packages (from scikit-learn->sklearn) (1.4.1)\n",
            "Requirement already satisfied, skipping upgrade: numpy>=1.11.0 in /usr/local/lib/python3.7/dist-packages (from scikit-learn->sklearn) (1.19.5)\n"
          ],
          "name": "stdout"
        }
      ]
    },
    {
      "cell_type": "markdown",
      "metadata": {
        "id": "WRsqPdCoUXaA"
      },
      "source": [
        "### Data Train"
      ]
    },
    {
      "cell_type": "code",
      "metadata": {
        "id": "clDxggxkcTWq",
        "colab": {
          "base_uri": "https://localhost:8080/",
          "height": 419
        },
        "outputId": "91369f56-5763-45b2-aaa7-25c39c91433c"
      },
      "source": [
        "DataTrain = pd.read_csv('kendaraan_train.csv')\n",
        "DataTrain"
      ],
      "execution_count": null,
      "outputs": [
        {
          "output_type": "execute_result",
          "data": {
            "text/html": [
              "<div>\n",
              "<style scoped>\n",
              "    .dataframe tbody tr th:only-of-type {\n",
              "        vertical-align: middle;\n",
              "    }\n",
              "\n",
              "    .dataframe tbody tr th {\n",
              "        vertical-align: top;\n",
              "    }\n",
              "\n",
              "    .dataframe thead th {\n",
              "        text-align: right;\n",
              "    }\n",
              "</style>\n",
              "<table border=\"1\" class=\"dataframe\">\n",
              "  <thead>\n",
              "    <tr style=\"text-align: right;\">\n",
              "      <th></th>\n",
              "      <th>id</th>\n",
              "      <th>Jenis_Kelamin</th>\n",
              "      <th>Umur</th>\n",
              "      <th>SIM</th>\n",
              "      <th>Kode_Daerah</th>\n",
              "      <th>Sudah_Asuransi</th>\n",
              "      <th>Umur_Kendaraan</th>\n",
              "      <th>Kendaraan_Rusak</th>\n",
              "      <th>Premi</th>\n",
              "      <th>Kanal_Penjualan</th>\n",
              "      <th>Lama_Berlangganan</th>\n",
              "      <th>Tertarik</th>\n",
              "    </tr>\n",
              "  </thead>\n",
              "  <tbody>\n",
              "    <tr>\n",
              "      <th>0</th>\n",
              "      <td>1</td>\n",
              "      <td>Wanita</td>\n",
              "      <td>30.0</td>\n",
              "      <td>1.0</td>\n",
              "      <td>33.0</td>\n",
              "      <td>1.0</td>\n",
              "      <td>&lt; 1 Tahun</td>\n",
              "      <td>Tidak</td>\n",
              "      <td>28029.0</td>\n",
              "      <td>152.0</td>\n",
              "      <td>97.0</td>\n",
              "      <td>0</td>\n",
              "    </tr>\n",
              "    <tr>\n",
              "      <th>1</th>\n",
              "      <td>2</td>\n",
              "      <td>Pria</td>\n",
              "      <td>48.0</td>\n",
              "      <td>1.0</td>\n",
              "      <td>39.0</td>\n",
              "      <td>0.0</td>\n",
              "      <td>&gt; 2 Tahun</td>\n",
              "      <td>Pernah</td>\n",
              "      <td>25800.0</td>\n",
              "      <td>29.0</td>\n",
              "      <td>158.0</td>\n",
              "      <td>0</td>\n",
              "    </tr>\n",
              "    <tr>\n",
              "      <th>2</th>\n",
              "      <td>3</td>\n",
              "      <td>NaN</td>\n",
              "      <td>21.0</td>\n",
              "      <td>1.0</td>\n",
              "      <td>46.0</td>\n",
              "      <td>1.0</td>\n",
              "      <td>&lt; 1 Tahun</td>\n",
              "      <td>Tidak</td>\n",
              "      <td>32733.0</td>\n",
              "      <td>160.0</td>\n",
              "      <td>119.0</td>\n",
              "      <td>0</td>\n",
              "    </tr>\n",
              "    <tr>\n",
              "      <th>3</th>\n",
              "      <td>4</td>\n",
              "      <td>Wanita</td>\n",
              "      <td>58.0</td>\n",
              "      <td>1.0</td>\n",
              "      <td>48.0</td>\n",
              "      <td>0.0</td>\n",
              "      <td>1-2 Tahun</td>\n",
              "      <td>Tidak</td>\n",
              "      <td>2630.0</td>\n",
              "      <td>124.0</td>\n",
              "      <td>63.0</td>\n",
              "      <td>0</td>\n",
              "    </tr>\n",
              "    <tr>\n",
              "      <th>4</th>\n",
              "      <td>5</td>\n",
              "      <td>Pria</td>\n",
              "      <td>50.0</td>\n",
              "      <td>1.0</td>\n",
              "      <td>35.0</td>\n",
              "      <td>0.0</td>\n",
              "      <td>&gt; 2 Tahun</td>\n",
              "      <td>NaN</td>\n",
              "      <td>34857.0</td>\n",
              "      <td>88.0</td>\n",
              "      <td>194.0</td>\n",
              "      <td>0</td>\n",
              "    </tr>\n",
              "    <tr>\n",
              "      <th>...</th>\n",
              "      <td>...</td>\n",
              "      <td>...</td>\n",
              "      <td>...</td>\n",
              "      <td>...</td>\n",
              "      <td>...</td>\n",
              "      <td>...</td>\n",
              "      <td>...</td>\n",
              "      <td>...</td>\n",
              "      <td>...</td>\n",
              "      <td>...</td>\n",
              "      <td>...</td>\n",
              "      <td>...</td>\n",
              "    </tr>\n",
              "    <tr>\n",
              "      <th>285826</th>\n",
              "      <td>285827</td>\n",
              "      <td>Wanita</td>\n",
              "      <td>23.0</td>\n",
              "      <td>1.0</td>\n",
              "      <td>4.0</td>\n",
              "      <td>1.0</td>\n",
              "      <td>&lt; 1 Tahun</td>\n",
              "      <td>Tidak</td>\n",
              "      <td>25988.0</td>\n",
              "      <td>152.0</td>\n",
              "      <td>217.0</td>\n",
              "      <td>0</td>\n",
              "    </tr>\n",
              "    <tr>\n",
              "      <th>285827</th>\n",
              "      <td>285828</td>\n",
              "      <td>Wanita</td>\n",
              "      <td>21.0</td>\n",
              "      <td>1.0</td>\n",
              "      <td>46.0</td>\n",
              "      <td>1.0</td>\n",
              "      <td>&lt; 1 Tahun</td>\n",
              "      <td>Tidak</td>\n",
              "      <td>44686.0</td>\n",
              "      <td>152.0</td>\n",
              "      <td>50.0</td>\n",
              "      <td>0</td>\n",
              "    </tr>\n",
              "    <tr>\n",
              "      <th>285828</th>\n",
              "      <td>285829</td>\n",
              "      <td>Wanita</td>\n",
              "      <td>23.0</td>\n",
              "      <td>1.0</td>\n",
              "      <td>50.0</td>\n",
              "      <td>1.0</td>\n",
              "      <td>&lt; 1 Tahun</td>\n",
              "      <td>Tidak</td>\n",
              "      <td>49751.0</td>\n",
              "      <td>152.0</td>\n",
              "      <td>226.0</td>\n",
              "      <td>0</td>\n",
              "    </tr>\n",
              "    <tr>\n",
              "      <th>285829</th>\n",
              "      <td>285830</td>\n",
              "      <td>Pria</td>\n",
              "      <td>68.0</td>\n",
              "      <td>1.0</td>\n",
              "      <td>7.0</td>\n",
              "      <td>1.0</td>\n",
              "      <td>1-2 Tahun</td>\n",
              "      <td>Tidak</td>\n",
              "      <td>30503.0</td>\n",
              "      <td>124.0</td>\n",
              "      <td>270.0</td>\n",
              "      <td>0</td>\n",
              "    </tr>\n",
              "    <tr>\n",
              "      <th>285830</th>\n",
              "      <td>285831</td>\n",
              "      <td>Pria</td>\n",
              "      <td>45.0</td>\n",
              "      <td>1.0</td>\n",
              "      <td>28.0</td>\n",
              "      <td>0.0</td>\n",
              "      <td>1-2 Tahun</td>\n",
              "      <td>Pernah</td>\n",
              "      <td>36480.0</td>\n",
              "      <td>26.0</td>\n",
              "      <td>44.0</td>\n",
              "      <td>0</td>\n",
              "    </tr>\n",
              "  </tbody>\n",
              "</table>\n",
              "<p>285831 rows × 12 columns</p>\n",
              "</div>"
            ],
            "text/plain": [
              "            id Jenis_Kelamin  ...  Lama_Berlangganan  Tertarik\n",
              "0            1        Wanita  ...               97.0         0\n",
              "1            2          Pria  ...              158.0         0\n",
              "2            3           NaN  ...              119.0         0\n",
              "3            4        Wanita  ...               63.0         0\n",
              "4            5          Pria  ...              194.0         0\n",
              "...        ...           ...  ...                ...       ...\n",
              "285826  285827        Wanita  ...              217.0         0\n",
              "285827  285828        Wanita  ...               50.0         0\n",
              "285828  285829        Wanita  ...              226.0         0\n",
              "285829  285830          Pria  ...              270.0         0\n",
              "285830  285831          Pria  ...               44.0         0\n",
              "\n",
              "[285831 rows x 12 columns]"
            ]
          },
          "metadata": {
            "tags": []
          },
          "execution_count": 3
        }
      ]
    },
    {
      "cell_type": "code",
      "metadata": {
        "colab": {
          "base_uri": "https://localhost:8080/"
        },
        "id": "dJR0MPyyXWui",
        "outputId": "2a9b85c5-75b3-49be-cab9-93387de102c9"
      },
      "source": [
        "DataTrain.info()"
      ],
      "execution_count": null,
      "outputs": [
        {
          "output_type": "stream",
          "text": [
            "<class 'pandas.core.frame.DataFrame'>\n",
            "RangeIndex: 285831 entries, 0 to 285830\n",
            "Data columns (total 12 columns):\n",
            " #   Column             Non-Null Count   Dtype  \n",
            "---  ------             --------------   -----  \n",
            " 0   id                 285831 non-null  int64  \n",
            " 1   Jenis_Kelamin      271391 non-null  object \n",
            " 2   Umur               271617 non-null  float64\n",
            " 3   SIM                271427 non-null  float64\n",
            " 4   Kode_Daerah        271525 non-null  float64\n",
            " 5   Sudah_Asuransi     271602 non-null  float64\n",
            " 6   Umur_Kendaraan     271556 non-null  object \n",
            " 7   Kendaraan_Rusak    271643 non-null  object \n",
            " 8   Premi              271262 non-null  float64\n",
            " 9   Kanal_Penjualan    271532 non-null  float64\n",
            " 10  Lama_Berlangganan  271839 non-null  float64\n",
            " 11  Tertarik           285831 non-null  int64  \n",
            "dtypes: float64(7), int64(2), object(3)\n",
            "memory usage: 26.2+ MB\n"
          ],
          "name": "stdout"
        }
      ]
    },
    {
      "cell_type": "code",
      "metadata": {
        "colab": {
          "base_uri": "https://localhost:8080/"
        },
        "id": "4KKZ6MRFt-DB",
        "outputId": "0f3701b8-9306-470a-ba6c-a21c3a71eef2"
      },
      "source": [
        "DataTrain[\"Tertarik\"].value_counts()"
      ],
      "execution_count": null,
      "outputs": [
        {
          "output_type": "execute_result",
          "data": {
            "text/plain": [
              "0    250825\n",
              "1     35006\n",
              "Name: Tertarik, dtype: int64"
            ]
          },
          "metadata": {
            "tags": []
          },
          "execution_count": 5
        }
      ]
    },
    {
      "cell_type": "markdown",
      "metadata": {
        "id": "_jg5ml8JUfDq"
      },
      "source": [
        "### Data Test"
      ]
    },
    {
      "cell_type": "code",
      "metadata": {
        "colab": {
          "base_uri": "https://localhost:8080/"
        },
        "id": "A4jceG9rUStT",
        "outputId": "77b2b18a-b4a7-4145-9795-36e5c325b403"
      },
      "source": [
        "DataTest = pd.read_csv('kendaraan_test.csv')\n",
        "DataTest"
      ],
      "execution_count": null,
      "outputs": [
        {
          "output_type": "execute_result",
          "data": {
            "text/html": [
              "<div>\n",
              "<style scoped>\n",
              "    .dataframe tbody tr th:only-of-type {\n",
              "        vertical-align: middle;\n",
              "    }\n",
              "\n",
              "    .dataframe tbody tr th {\n",
              "        vertical-align: top;\n",
              "    }\n",
              "\n",
              "    .dataframe thead th {\n",
              "        text-align: right;\n",
              "    }\n",
              "</style>\n",
              "<table border=\"1\" class=\"dataframe\">\n",
              "  <thead>\n",
              "    <tr style=\"text-align: right;\">\n",
              "      <th></th>\n",
              "      <th>Jenis_Kelamin</th>\n",
              "      <th>Umur</th>\n",
              "      <th>SIM</th>\n",
              "      <th>Kode_Daerah</th>\n",
              "      <th>Sudah_Asuransi</th>\n",
              "      <th>Umur_Kendaraan</th>\n",
              "      <th>Kendaraan_Rusak</th>\n",
              "      <th>Premi</th>\n",
              "      <th>Kanal_Penjualan</th>\n",
              "      <th>Lama_Berlangganan</th>\n",
              "      <th>Tertarik</th>\n",
              "    </tr>\n",
              "  </thead>\n",
              "  <tbody>\n",
              "    <tr>\n",
              "      <th>0</th>\n",
              "      <td>Wanita</td>\n",
              "      <td>49</td>\n",
              "      <td>1</td>\n",
              "      <td>8</td>\n",
              "      <td>0</td>\n",
              "      <td>1-2 Tahun</td>\n",
              "      <td>Pernah</td>\n",
              "      <td>46963</td>\n",
              "      <td>26</td>\n",
              "      <td>145</td>\n",
              "      <td>0</td>\n",
              "    </tr>\n",
              "    <tr>\n",
              "      <th>1</th>\n",
              "      <td>Pria</td>\n",
              "      <td>22</td>\n",
              "      <td>1</td>\n",
              "      <td>47</td>\n",
              "      <td>1</td>\n",
              "      <td>&lt; 1 Tahun</td>\n",
              "      <td>Tidak</td>\n",
              "      <td>39624</td>\n",
              "      <td>152</td>\n",
              "      <td>241</td>\n",
              "      <td>0</td>\n",
              "    </tr>\n",
              "    <tr>\n",
              "      <th>2</th>\n",
              "      <td>Pria</td>\n",
              "      <td>24</td>\n",
              "      <td>1</td>\n",
              "      <td>28</td>\n",
              "      <td>1</td>\n",
              "      <td>&lt; 1 Tahun</td>\n",
              "      <td>Tidak</td>\n",
              "      <td>110479</td>\n",
              "      <td>152</td>\n",
              "      <td>62</td>\n",
              "      <td>0</td>\n",
              "    </tr>\n",
              "    <tr>\n",
              "      <th>3</th>\n",
              "      <td>Pria</td>\n",
              "      <td>46</td>\n",
              "      <td>1</td>\n",
              "      <td>8</td>\n",
              "      <td>1</td>\n",
              "      <td>1-2 Tahun</td>\n",
              "      <td>Tidak</td>\n",
              "      <td>36266</td>\n",
              "      <td>124</td>\n",
              "      <td>34</td>\n",
              "      <td>0</td>\n",
              "    </tr>\n",
              "    <tr>\n",
              "      <th>4</th>\n",
              "      <td>Pria</td>\n",
              "      <td>35</td>\n",
              "      <td>1</td>\n",
              "      <td>23</td>\n",
              "      <td>0</td>\n",
              "      <td>1-2 Tahun</td>\n",
              "      <td>Pernah</td>\n",
              "      <td>26963</td>\n",
              "      <td>152</td>\n",
              "      <td>229</td>\n",
              "      <td>0</td>\n",
              "    </tr>\n",
              "    <tr>\n",
              "      <th>...</th>\n",
              "      <td>...</td>\n",
              "      <td>...</td>\n",
              "      <td>...</td>\n",
              "      <td>...</td>\n",
              "      <td>...</td>\n",
              "      <td>...</td>\n",
              "      <td>...</td>\n",
              "      <td>...</td>\n",
              "      <td>...</td>\n",
              "      <td>...</td>\n",
              "      <td>...</td>\n",
              "    </tr>\n",
              "    <tr>\n",
              "      <th>47634</th>\n",
              "      <td>Pria</td>\n",
              "      <td>61</td>\n",
              "      <td>1</td>\n",
              "      <td>46</td>\n",
              "      <td>0</td>\n",
              "      <td>&gt; 2 Tahun</td>\n",
              "      <td>Pernah</td>\n",
              "      <td>31039</td>\n",
              "      <td>124</td>\n",
              "      <td>67</td>\n",
              "      <td>0</td>\n",
              "    </tr>\n",
              "    <tr>\n",
              "      <th>47635</th>\n",
              "      <td>Pria</td>\n",
              "      <td>41</td>\n",
              "      <td>1</td>\n",
              "      <td>15</td>\n",
              "      <td>0</td>\n",
              "      <td>1-2 Tahun</td>\n",
              "      <td>Pernah</td>\n",
              "      <td>2630</td>\n",
              "      <td>157</td>\n",
              "      <td>232</td>\n",
              "      <td>0</td>\n",
              "    </tr>\n",
              "    <tr>\n",
              "      <th>47636</th>\n",
              "      <td>Pria</td>\n",
              "      <td>24</td>\n",
              "      <td>1</td>\n",
              "      <td>29</td>\n",
              "      <td>1</td>\n",
              "      <td>&lt; 1 Tahun</td>\n",
              "      <td>Tidak</td>\n",
              "      <td>33101</td>\n",
              "      <td>152</td>\n",
              "      <td>211</td>\n",
              "      <td>0</td>\n",
              "    </tr>\n",
              "    <tr>\n",
              "      <th>47637</th>\n",
              "      <td>Pria</td>\n",
              "      <td>59</td>\n",
              "      <td>1</td>\n",
              "      <td>30</td>\n",
              "      <td>0</td>\n",
              "      <td>1-2 Tahun</td>\n",
              "      <td>Pernah</td>\n",
              "      <td>37788</td>\n",
              "      <td>26</td>\n",
              "      <td>239</td>\n",
              "      <td>1</td>\n",
              "    </tr>\n",
              "    <tr>\n",
              "      <th>47638</th>\n",
              "      <td>Pria</td>\n",
              "      <td>52</td>\n",
              "      <td>1</td>\n",
              "      <td>31</td>\n",
              "      <td>0</td>\n",
              "      <td>1-2 Tahun</td>\n",
              "      <td>Tidak</td>\n",
              "      <td>2630</td>\n",
              "      <td>124</td>\n",
              "      <td>170</td>\n",
              "      <td>0</td>\n",
              "    </tr>\n",
              "  </tbody>\n",
              "</table>\n",
              "<p>47639 rows × 11 columns</p>\n",
              "</div>"
            ],
            "text/plain": [
              "      Jenis_Kelamin  Umur  SIM  ...  Kanal_Penjualan  Lama_Berlangganan Tertarik\n",
              "0            Wanita    49    1  ...               26                145        0\n",
              "1              Pria    22    1  ...              152                241        0\n",
              "2              Pria    24    1  ...              152                 62        0\n",
              "3              Pria    46    1  ...              124                 34        0\n",
              "4              Pria    35    1  ...              152                229        0\n",
              "...             ...   ...  ...  ...              ...                ...      ...\n",
              "47634          Pria    61    1  ...              124                 67        0\n",
              "47635          Pria    41    1  ...              157                232        0\n",
              "47636          Pria    24    1  ...              152                211        0\n",
              "47637          Pria    59    1  ...               26                239        1\n",
              "47638          Pria    52    1  ...              124                170        0\n",
              "\n",
              "[47639 rows x 11 columns]"
            ]
          },
          "metadata": {
            "tags": []
          },
          "execution_count": 6
        }
      ]
    },
    {
      "cell_type": "code",
      "metadata": {
        "colab": {
          "base_uri": "https://localhost:8080/"
        },
        "id": "zZ2vaEHHXGhC",
        "outputId": "d775bcd0-bcbb-477e-de5f-af4cd6579603"
      },
      "source": [
        "DataTest.info()"
      ],
      "execution_count": null,
      "outputs": [
        {
          "output_type": "stream",
          "text": [
            "<class 'pandas.core.frame.DataFrame'>\n",
            "RangeIndex: 47639 entries, 0 to 47638\n",
            "Data columns (total 11 columns):\n",
            " #   Column             Non-Null Count  Dtype \n",
            "---  ------             --------------  ----- \n",
            " 0   Jenis_Kelamin      47639 non-null  object\n",
            " 1   Umur               47639 non-null  int64 \n",
            " 2   SIM                47639 non-null  int64 \n",
            " 3   Kode_Daerah        47639 non-null  int64 \n",
            " 4   Sudah_Asuransi     47639 non-null  int64 \n",
            " 5   Umur_Kendaraan     47639 non-null  object\n",
            " 6   Kendaraan_Rusak    47639 non-null  object\n",
            " 7   Premi              47639 non-null  int64 \n",
            " 8   Kanal_Penjualan    47639 non-null  int64 \n",
            " 9   Lama_Berlangganan  47639 non-null  int64 \n",
            " 10  Tertarik           47639 non-null  int64 \n",
            "dtypes: int64(8), object(3)\n",
            "memory usage: 4.0+ MB\n"
          ],
          "name": "stdout"
        }
      ]
    },
    {
      "cell_type": "markdown",
      "metadata": {
        "id": "4tJ_JCT_bgDH"
      },
      "source": [
        "# Preprocessing\n",
        "Tahap ini diperlukan untuk menentukan tindakan yang perlu dilakukan seperti apakah data sudah bersih dari nilai null, outliers sebelum memulai melakukan klasifikasi"
      ]
    },
    {
      "cell_type": "markdown",
      "metadata": {
        "id": "KKLGH_JfR7WF"
      },
      "source": [
        "## Func preprocessing\n",
        "\n"
      ]
    },
    {
      "cell_type": "markdown",
      "metadata": {
        "id": "8xdEl8RM8p-t"
      },
      "source": [
        "fungsi **heatmap** untuk mengecek korelasi(hubungan) antar atribut yang dimiliki oleh data"
      ]
    },
    {
      "cell_type": "code",
      "metadata": {
        "id": "DC8KVwh5SFRk"
      },
      "source": [
        "#check correlation\n",
        "sns.set(rc={'figure.figsize':(11,8)})\n",
        "def heatmap(data):\n",
        "  sns.heatmap(data.corr(), vmax=1, annot=True, cmap='Pastel1')"
      ],
      "execution_count": null,
      "outputs": []
    },
    {
      "cell_type": "markdown",
      "metadata": {
        "id": "pFEzO1lE8q2J"
      },
      "source": [
        "fungsi **Check_outlier** digunakan untuk mengecek nilai pencilan yang dimiliki oleh masih masing atribut. nilai tersebut bernilai jauh sekali dari pusat data. Nilai pencilan ini dapat menyebabkan distorsi terhadap nilai yang asli"
      ]
    },
    {
      "cell_type": "code",
      "metadata": {
        "id": "L9I1bV3xR_Sj"
      },
      "source": [
        "#outlier\n",
        "def Check_outlier(data):\n",
        "  plt.figure(figsize=(150, 200))\n",
        "  f, axes = plt.subplots(1, 8)\n",
        "  sns.boxplot(y= data['Jenis_Kelamin'], ax= axes[0], color='rosybrown')\n",
        "  sns.boxplot(y= data['Umur'], ax= axes[1], color='rosybrown')\n",
        "  sns.boxplot(y= data['Kode_Daerah'], ax=axes[2], color='rosybrown')\n",
        "  sns.boxplot(y= data['Sudah_Asuransi'], ax=axes[3], color='rosybrown')\n",
        "  sns.boxplot(y= data['Umur_Kendaraan'], ax=axes[4], color='rosybrown')\n",
        "  sns.boxplot(y= data['Premi'], ax=axes[5], color='rosybrown')\n",
        "  sns.boxplot(y= data['Kanal_Penjualan'], ax=axes[6], color='rosybrown')\n",
        "  sns.boxplot(y= data['Lama_Berlangganan'], ax=axes[7], color='rosybrown')\n",
        "  plt.subplots_adjust(wspace=5)\n"
      ],
      "execution_count": null,
      "outputs": []
    },
    {
      "cell_type": "markdown",
      "metadata": {
        "id": "3nRfoM0b8tG7"
      },
      "source": [
        "fungsi **cleanoutlierUmur cleanoutlierPremi checkoutierLB** bertujuan untuk menhilangkan nilai outliers yang dmiliki oleh atribut, menghilangkan nilai dengan cara Mengganti nilai outliers menggunakan nilai lower bound dan upper bound."
      ]
    },
    {
      "cell_type": "code",
      "metadata": {
        "id": "_wNrpaqSSi5O"
      },
      "source": [
        "#handle outlier \n",
        "def Check_outlierUmur(data):\n",
        "  while True:\n",
        "    qlo1, qlo3 = np.percentile(data['Umur'],[25,75])\n",
        "    iqrlo = qlo3 - qlo1\n",
        "    lowerlo = qlo1 - (1.5 * iqrlo)\n",
        "    upperlo = qlo3 + (1.5 * iqrlo)\n",
        "    outlierlo = data[(data['Umur'] < (lowerlo)) | (data['Umur'] > (upperlo))]\n",
        "    print('amount of outlier data',outlierlo.shape[0]) #amount of outlier data\n",
        "    idxlo = outlierlo.index\n",
        "    data.drop(idxlo, inplace=True) #drop outlier data\n",
        "    if (outlierlo.shape[0] <= 0):\n",
        "      break\n",
        "#handle outlier \n",
        "def Check_outlierPremi(data):\n",
        "  while True:\n",
        "    qlo1, qlo3 = np.percentile(data['Premi'],[25,75])\n",
        "    iqrlo = qlo3 - qlo1\n",
        "    lowerlo = qlo1 - (1.5 * iqrlo)\n",
        "    upperlo = qlo3 + (1.5 * iqrlo)\n",
        "    outlierlo = data[(data['Premi'] < (lowerlo)) | (data['Premi'] > (upperlo))]\n",
        "    print('amount of outlier data',outlierlo.shape[0]) #amount of outlier data\n",
        "    idxlo = outlierlo.index\n",
        "    data.drop(idxlo, inplace=True) #drop outlier data\n",
        "    if (outlierlo.shape[0] <= 0):\n",
        "      break\n",
        "\n",
        "#handle outlier \n",
        "def Check_outlierLB(data):\n",
        "  while True:\n",
        "    qlo1, qlo3 = np.percentile(data['Lama_Berlangganan'],[25,75])\n",
        "    iqrlo = qlo3 - qlo1\n",
        "    lowerlo = qlo1 - (1.5 * iqrlo)\n",
        "    upperlo = qlo3 + (1.5 * iqrlo)\n",
        "    outlierlo = data[(data['Lama_Berlangganan'] < (lowerlo)) | (data['Lama_Berlangganan'] > (upperlo))]\n",
        "    print('amount of outlier data',outlierlo.shape[0]) #amount of outlier data\n",
        "    idxlo = outlierlo.index\n",
        "    data.drop(idxlo, inplace=True) #drop outlier data\n",
        "    if (outlierlo.shape[0] <= 0):\n",
        "      break\n"
      ],
      "execution_count": null,
      "outputs": []
    },
    {
      "cell_type": "code",
      "metadata": {
        "id": "FhCQUa3yYnT9"
      },
      "source": [
        "#check empty\n",
        "def empty_check(Data) :\n",
        "  new_data = Data.dropna(how ='any',axis = 0)\n",
        "  print(\"Panjang dataframe  sebelumnya:\", len(Data)) \n",
        "  print(\"Panjang dataframe  setelah dilakukan pengecekan empty value :\", len(new_data))  \n",
        "  print(\"Jumlah baris Data dengan setidaknya 1 empty value : \", (len(Data)-len(new_data)))"
      ],
      "execution_count": null,
      "outputs": []
    },
    {
      "cell_type": "code",
      "metadata": {
        "colab": {
          "base_uri": "https://localhost:8080/"
        },
        "id": "9EieJ_frYpRa",
        "outputId": "0934ec64-999a-48ad-a190-7fc04c2576e6"
      },
      "source": [
        "print('==========Data Train==============')\n",
        "print(empty_check(DataTrain))\n",
        "print('==========Data Test==============')\n",
        "print(empty_check(DataTest))"
      ],
      "execution_count": null,
      "outputs": [
        {
          "output_type": "stream",
          "text": [
            "==========Data Train==============\n",
            "Panjang dataframe  sebelumnya: 285831\n",
            "Panjang dataframe  setelah dilakukan pengecekan empty value : 171068\n",
            "Jumlah baris Data dengan setidaknya 1 empty value :  114763\n",
            "None\n",
            "==========Data Test==============\n",
            "Panjang dataframe  sebelumnya: 47639\n",
            "Panjang dataframe  setelah dilakukan pengecekan empty value : 47639\n",
            "Jumlah baris Data dengan setidaknya 1 empty value :  0\n",
            "None\n"
          ],
          "name": "stdout"
        }
      ]
    },
    {
      "cell_type": "markdown",
      "metadata": {
        "id": "Nh42sIkQSAxC"
      },
      "source": [
        "### Data Train"
      ]
    },
    {
      "cell_type": "code",
      "metadata": {
        "colab": {
          "base_uri": "https://localhost:8080/"
        },
        "id": "EnqZ_GyZdSDa",
        "outputId": "41747c81-f933-4d4c-9719-27238cc8b345"
      },
      "source": [
        "#fill NAN/missing value numerik using mean\n",
        "DataTrain['Umur'].fillna(DataTrain['Umur'].mean(), inplace=True)\n",
        "DataTrain['SIM'].fillna(DataTrain['SIM'].mean(), inplace=True)\n",
        "DataTrain['Kode_Daerah'].fillna(DataTrain['Kode_Daerah'].mean(), inplace=True)\n",
        "DataTrain['Sudah_Asuransi'].fillna(DataTrain['Sudah_Asuransi'].mean(), inplace=True)\n",
        "DataTrain['Premi'].fillna(DataTrain['Premi'].mean(), inplace=True)\n",
        "DataTrain['Kanal_Penjualan'].fillna(DataTrain['Kanal_Penjualan'].mean(), inplace=True)\n",
        "DataTrain['Lama_Berlangganan'].fillna(DataTrain['Lama_Berlangganan'].mean(), inplace=True)\n",
        "DataTrain['Tertarik'].fillna(DataTrain['Tertarik'].mean(), inplace=True)\n",
        "\n",
        "#fill missing value categorical using modus\n",
        "DataTrain['Jenis_Kelamin'].fillna('Pria', inplace=True)\n",
        "DataTrain['Umur_Kendaraan'].fillna('1-2 Tahun', inplace=True)\n",
        "DataTrain['Kendaraan_Rusak'].fillna('Pernah', inplace=True)\n",
        "\n",
        "# len(DataTrain)\n",
        "DataTrain.isna().sum()"
      ],
      "execution_count": null,
      "outputs": [
        {
          "output_type": "execute_result",
          "data": {
            "text/plain": [
              "id                   0\n",
              "Jenis_Kelamin        0\n",
              "Umur                 0\n",
              "SIM                  0\n",
              "Kode_Daerah          0\n",
              "Sudah_Asuransi       0\n",
              "Umur_Kendaraan       0\n",
              "Kendaraan_Rusak      0\n",
              "Premi                0\n",
              "Kanal_Penjualan      0\n",
              "Lama_Berlangganan    0\n",
              "Tertarik             0\n",
              "dtype: int64"
            ]
          },
          "metadata": {
            "tags": []
          },
          "execution_count": 13
        }
      ]
    },
    {
      "cell_type": "code",
      "metadata": {
        "colab": {
          "base_uri": "https://localhost:8080/"
        },
        "id": "WKUrMjWWfisC",
        "outputId": "995b6ca3-2b15-4720-bc24-2d9997ed9a4d"
      },
      "source": [
        "DataTrain.info()"
      ],
      "execution_count": null,
      "outputs": [
        {
          "output_type": "stream",
          "text": [
            "<class 'pandas.core.frame.DataFrame'>\n",
            "RangeIndex: 285831 entries, 0 to 285830\n",
            "Data columns (total 12 columns):\n",
            " #   Column             Non-Null Count   Dtype  \n",
            "---  ------             --------------   -----  \n",
            " 0   id                 285831 non-null  int64  \n",
            " 1   Jenis_Kelamin      285831 non-null  object \n",
            " 2   Umur               285831 non-null  float64\n",
            " 3   SIM                285831 non-null  float64\n",
            " 4   Kode_Daerah        285831 non-null  float64\n",
            " 5   Sudah_Asuransi     285831 non-null  float64\n",
            " 6   Umur_Kendaraan     285831 non-null  object \n",
            " 7   Kendaraan_Rusak    285831 non-null  object \n",
            " 8   Premi              285831 non-null  float64\n",
            " 9   Kanal_Penjualan    285831 non-null  float64\n",
            " 10  Lama_Berlangganan  285831 non-null  float64\n",
            " 11  Tertarik           285831 non-null  int64  \n",
            "dtypes: float64(7), int64(2), object(3)\n",
            "memory usage: 26.2+ MB\n"
          ],
          "name": "stdout"
        }
      ]
    },
    {
      "cell_type": "markdown",
      "metadata": {
        "id": "4PQH90kG861f"
      },
      "source": [
        "mengubah category menjadi numerik"
      ]
    },
    {
      "cell_type": "code",
      "metadata": {
        "colab": {
          "base_uri": "https://localhost:8080/"
        },
        "id": "yocq8I0Ifxfc",
        "outputId": "454a7904-5299-4871-8383-72bf6cd2dbe5"
      },
      "source": [
        "DataTrain['Jenis_Kelamin']= LabelEncoder().fit_transform(DataTrain['Jenis_Kelamin']) \n",
        "DataTrain['Umur_Kendaraan']= LabelEncoder().fit_transform(DataTrain['Umur_Kendaraan']) \n",
        "DataTrain['Kendaraan_Rusak'] = (DataTrain['Kendaraan_Rusak']=='Pernah').astype(int)\n",
        "\n",
        "DataTrain.head(3)"
      ],
      "execution_count": null,
      "outputs": [
        {
          "output_type": "execute_result",
          "data": {
            "text/html": [
              "<div>\n",
              "<style scoped>\n",
              "    .dataframe tbody tr th:only-of-type {\n",
              "        vertical-align: middle;\n",
              "    }\n",
              "\n",
              "    .dataframe tbody tr th {\n",
              "        vertical-align: top;\n",
              "    }\n",
              "\n",
              "    .dataframe thead th {\n",
              "        text-align: right;\n",
              "    }\n",
              "</style>\n",
              "<table border=\"1\" class=\"dataframe\">\n",
              "  <thead>\n",
              "    <tr style=\"text-align: right;\">\n",
              "      <th></th>\n",
              "      <th>id</th>\n",
              "      <th>Jenis_Kelamin</th>\n",
              "      <th>Umur</th>\n",
              "      <th>SIM</th>\n",
              "      <th>Kode_Daerah</th>\n",
              "      <th>Sudah_Asuransi</th>\n",
              "      <th>Umur_Kendaraan</th>\n",
              "      <th>Kendaraan_Rusak</th>\n",
              "      <th>Premi</th>\n",
              "      <th>Kanal_Penjualan</th>\n",
              "      <th>Lama_Berlangganan</th>\n",
              "      <th>Tertarik</th>\n",
              "    </tr>\n",
              "  </thead>\n",
              "  <tbody>\n",
              "    <tr>\n",
              "      <th>0</th>\n",
              "      <td>1</td>\n",
              "      <td>1</td>\n",
              "      <td>30.0</td>\n",
              "      <td>1.0</td>\n",
              "      <td>33.0</td>\n",
              "      <td>1.0</td>\n",
              "      <td>1</td>\n",
              "      <td>0</td>\n",
              "      <td>28029.0</td>\n",
              "      <td>152.0</td>\n",
              "      <td>97.0</td>\n",
              "      <td>0</td>\n",
              "    </tr>\n",
              "    <tr>\n",
              "      <th>1</th>\n",
              "      <td>2</td>\n",
              "      <td>0</td>\n",
              "      <td>48.0</td>\n",
              "      <td>1.0</td>\n",
              "      <td>39.0</td>\n",
              "      <td>0.0</td>\n",
              "      <td>2</td>\n",
              "      <td>1</td>\n",
              "      <td>25800.0</td>\n",
              "      <td>29.0</td>\n",
              "      <td>158.0</td>\n",
              "      <td>0</td>\n",
              "    </tr>\n",
              "    <tr>\n",
              "      <th>2</th>\n",
              "      <td>3</td>\n",
              "      <td>0</td>\n",
              "      <td>21.0</td>\n",
              "      <td>1.0</td>\n",
              "      <td>46.0</td>\n",
              "      <td>1.0</td>\n",
              "      <td>1</td>\n",
              "      <td>0</td>\n",
              "      <td>32733.0</td>\n",
              "      <td>160.0</td>\n",
              "      <td>119.0</td>\n",
              "      <td>0</td>\n",
              "    </tr>\n",
              "  </tbody>\n",
              "</table>\n",
              "</div>"
            ],
            "text/plain": [
              "   id  Jenis_Kelamin  Umur  ...  Kanal_Penjualan  Lama_Berlangganan  Tertarik\n",
              "0   1              1  30.0  ...            152.0               97.0         0\n",
              "1   2              0  48.0  ...             29.0              158.0         0\n",
              "2   3              0  21.0  ...            160.0              119.0         0\n",
              "\n",
              "[3 rows x 12 columns]"
            ]
          },
          "metadata": {
            "tags": []
          },
          "execution_count": 15
        }
      ]
    },
    {
      "cell_type": "code",
      "metadata": {
        "colab": {
          "base_uri": "https://localhost:8080/"
        },
        "id": "Zj0N683-U97D",
        "outputId": "e7d8203a-80d6-49b0-9c8e-98e081575316"
      },
      "source": [
        "heatmap(DataTrain)"
      ],
      "execution_count": null,
      "outputs": [
        {
          "output_type": "display_data",
          "data": {
            "image/png": "[encoded data removed]",
            "text/plain": [
              "<Figure size 792x576 with 2 Axes>"
            ]
          },
          "metadata": {
            "tags": []
          }
        }
      ]
    },
    {
      "cell_type": "code",
      "metadata": {
        "colab": {
          "base_uri": "https://localhost:8080/"
        },
        "id": "g4tNIZToVBRM",
        "outputId": "f7aa6ea9-449a-4376-80af-e676ed030a56"
      },
      "source": [
        "Check_outlier(DataTrain)"
      ],
      "execution_count": null,
      "outputs": [
        {
          "output_type": "display_data",
          "data": {
            "text/plain": [
              "<Figure size 10800x14400 with 0 Axes>"
            ]
          },
          "metadata": {
            "tags": []
          }
        },
        {
          "output_type": "display_data",
          "data": {
            "image/png": "[encoded data removed]",
            "text/plain": [
              "<Figure size 792x576 with 8 Axes>"
            ]
          },
          "metadata": {
            "tags": []
          }
        }
      ]
    },
    {
      "cell_type": "code",
      "metadata": {
        "colab": {
          "base_uri": "https://localhost:8080/"
        },
        "id": "qSzAeZSZgn9k",
        "outputId": "a02ef043-c65b-467e-f9ad-48bce004579e"
      },
      "source": [
        "Check_outlierPremi(DataTrain)"
      ],
      "execution_count": null,
      "outputs": [
        {
          "output_type": "stream",
          "text": [
            "amount of outlier data 55141\n",
            "amount of outlier data 3626\n",
            "amount of outlier data 1173\n",
            "amount of outlier data 385\n",
            "amount of outlier data 133\n",
            "amount of outlier data 52\n",
            "amount of outlier data 19\n",
            "amount of outlier data 13\n",
            "amount of outlier data 2\n",
            "amount of outlier data 0\n"
          ],
          "name": "stdout"
        }
      ]
    },
    {
      "cell_type": "code",
      "metadata": {
        "colab": {
          "base_uri": "https://localhost:8080/"
        },
        "id": "jKhIXP6BTvv_",
        "outputId": "719e35dc-1aa9-4edc-dc68-5882eba980a2"
      },
      "source": [
        "Check_outlierUmur(DataTrain)\n",
        "Check_outlierLB(DataTrain)"
      ],
      "execution_count": null,
      "outputs": [
        {
          "output_type": "stream",
          "text": [
            "amount of outlier data 6\n",
            "amount of outlier data 0\n",
            "amount of outlier data 0\n"
          ],
          "name": "stdout"
        }
      ]
    },
    {
      "cell_type": "code",
      "metadata": {
        "colab": {
          "base_uri": "https://localhost:8080/"
        },
        "id": "isaGIBVoVLgg",
        "outputId": "bda6f737-0011-4b76-f231-48c9689d62e4"
      },
      "source": [
        "Check_outlier(DataTrain)\n",
        "plt.title(\"Data Train\")"
      ],
      "execution_count": null,
      "outputs": [
        {
          "output_type": "execute_result",
          "data": {
            "text/plain": [
              "Text(0.5, 1.0, 'Data Train')"
            ]
          },
          "metadata": {
            "tags": []
          },
          "execution_count": 20
        },
        {
          "output_type": "display_data",
          "data": {
            "text/plain": [
              "<Figure size 10800x14400 with 0 Axes>"
            ]
          },
          "metadata": {
            "tags": []
          }
        },
        {
          "output_type": "display_data",
          "data": {
            "image/png": "[encoded data removed]",
            "text/plain": [
              "<Figure size 792x576 with 8 Axes>"
            ]
          },
          "metadata": {
            "tags": []
          }
        }
      ]
    },
    {
      "cell_type": "markdown",
      "metadata": {
        "id": "EblMHNAP9Hcj"
      },
      "source": [
        "mengecek apakah class target pada data train seimbang atau tidak"
      ]
    },
    {
      "cell_type": "code",
      "metadata": {
        "colab": {
          "base_uri": "https://localhost:8080/"
        },
        "id": "MncTqE4fMt5R",
        "outputId": "7e824338-ed4a-482e-87a2-6383dcd24eaf"
      },
      "source": [
        "sns.set(style=\"whitegrid\")\n",
        "sns.countplot(DataTrain.Tertarik)\n",
        "plt.title(\"Cek imbalanced\")\n",
        "plt.show()"
      ],
      "execution_count": null,
      "outputs": [
        {
          "output_type": "stream",
          "text": [
            "/usr/local/lib/python3.7/dist-packages/seaborn/_decorators.py:43: FutureWarning: Pass the following variable as a keyword arg: x. From version 0.12, the only valid positional argument will be `data`, and passing other arguments without an explicit keyword will result in an error or misinterpretation.\n",
            "  FutureWarning\n"
          ],
          "name": "stderr"
        },
        {
          "output_type": "display_data",
          "data": {
            "image/png": "[encoded data removed]",
            "text/plain": [
              "<Figure size 792x576 with 1 Axes>"
            ]
          },
          "metadata": {
            "tags": []
          }
        }
      ]
    },
    {
      "cell_type": "markdown",
      "metadata": {
        "id": "geVyrOepYkTX"
      },
      "source": [
        "### Data Test"
      ]
    },
    {
      "cell_type": "code",
      "metadata": {
        "colab": {
          "base_uri": "https://localhost:8080/"
        },
        "id": "hDTK9Gxydlcz",
        "outputId": "f24c3938-305d-40ff-fb6c-7b7584906352"
      },
      "source": [
        "DataTest.fillna(DataTest.mean(), inplace=True)\n",
        "DataTest.head(3)\n",
        "DataTest.isna().sum()"
      ],
      "execution_count": null,
      "outputs": [
        {
          "output_type": "execute_result",
          "data": {
            "text/plain": [
              "Jenis_Kelamin        0\n",
              "Umur                 0\n",
              "SIM                  0\n",
              "Kode_Daerah          0\n",
              "Sudah_Asuransi       0\n",
              "Umur_Kendaraan       0\n",
              "Kendaraan_Rusak      0\n",
              "Premi                0\n",
              "Kanal_Penjualan      0\n",
              "Lama_Berlangganan    0\n",
              "Tertarik             0\n",
              "dtype: int64"
            ]
          },
          "metadata": {
            "tags": []
          },
          "execution_count": 22
        }
      ]
    },
    {
      "cell_type": "markdown",
      "metadata": {
        "id": "riucasvH9QIg"
      },
      "source": [
        "mengubah category menjadi numerik"
      ]
    },
    {
      "cell_type": "code",
      "metadata": {
        "colab": {
          "base_uri": "https://localhost:8080/"
        },
        "id": "3S7QRbEnZGol",
        "outputId": "0d26779f-3538-48dc-cb34-7d64985549d8"
      },
      "source": [
        "DataTest['Jenis_Kelamin']= LabelEncoder().fit_transform(DataTest['Jenis_Kelamin']) \n",
        "DataTest['Umur_Kendaraan']= LabelEncoder().fit_transform(DataTest['Umur_Kendaraan']) \n",
        "DataTest['Kendaraan_Rusak'] = (DataTest['Kendaraan_Rusak']=='Pernah').astype(int)\n",
        "\n",
        "DataTest.head(3)"
      ],
      "execution_count": null,
      "outputs": [
        {
          "output_type": "execute_result",
          "data": {
            "text/html": [
              "<div>\n",
              "<style scoped>\n",
              "    .dataframe tbody tr th:only-of-type {\n",
              "        vertical-align: middle;\n",
              "    }\n",
              "\n",
              "    .dataframe tbody tr th {\n",
              "        vertical-align: top;\n",
              "    }\n",
              "\n",
              "    .dataframe thead th {\n",
              "        text-align: right;\n",
              "    }\n",
              "</style>\n",
              "<table border=\"1\" class=\"dataframe\">\n",
              "  <thead>\n",
              "    <tr style=\"text-align: right;\">\n",
              "      <th></th>\n",
              "      <th>Jenis_Kelamin</th>\n",
              "      <th>Umur</th>\n",
              "      <th>SIM</th>\n",
              "      <th>Kode_Daerah</th>\n",
              "      <th>Sudah_Asuransi</th>\n",
              "      <th>Umur_Kendaraan</th>\n",
              "      <th>Kendaraan_Rusak</th>\n",
              "      <th>Premi</th>\n",
              "      <th>Kanal_Penjualan</th>\n",
              "      <th>Lama_Berlangganan</th>\n",
              "      <th>Tertarik</th>\n",
              "    </tr>\n",
              "  </thead>\n",
              "  <tbody>\n",
              "    <tr>\n",
              "      <th>0</th>\n",
              "      <td>1</td>\n",
              "      <td>49</td>\n",
              "      <td>1</td>\n",
              "      <td>8</td>\n",
              "      <td>0</td>\n",
              "      <td>0</td>\n",
              "      <td>1</td>\n",
              "      <td>46963</td>\n",
              "      <td>26</td>\n",
              "      <td>145</td>\n",
              "      <td>0</td>\n",
              "    </tr>\n",
              "    <tr>\n",
              "      <th>1</th>\n",
              "      <td>0</td>\n",
              "      <td>22</td>\n",
              "      <td>1</td>\n",
              "      <td>47</td>\n",
              "      <td>1</td>\n",
              "      <td>1</td>\n",
              "      <td>0</td>\n",
              "      <td>39624</td>\n",
              "      <td>152</td>\n",
              "      <td>241</td>\n",
              "      <td>0</td>\n",
              "    </tr>\n",
              "    <tr>\n",
              "      <th>2</th>\n",
              "      <td>0</td>\n",
              "      <td>24</td>\n",
              "      <td>1</td>\n",
              "      <td>28</td>\n",
              "      <td>1</td>\n",
              "      <td>1</td>\n",
              "      <td>0</td>\n",
              "      <td>110479</td>\n",
              "      <td>152</td>\n",
              "      <td>62</td>\n",
              "      <td>0</td>\n",
              "    </tr>\n",
              "  </tbody>\n",
              "</table>\n",
              "</div>"
            ],
            "text/plain": [
              "   Jenis_Kelamin  Umur  SIM  ...  Kanal_Penjualan  Lama_Berlangganan  Tertarik\n",
              "0              1    49    1  ...               26                145         0\n",
              "1              0    22    1  ...              152                241         0\n",
              "2              0    24    1  ...              152                 62         0\n",
              "\n",
              "[3 rows x 11 columns]"
            ]
          },
          "metadata": {
            "tags": []
          },
          "execution_count": 23
        }
      ]
    },
    {
      "cell_type": "code",
      "metadata": {
        "colab": {
          "base_uri": "https://localhost:8080/"
        },
        "id": "hBjtMy0TVS32",
        "outputId": "bd3b16d4-cbcb-4313-df71-02b24a78cc2c"
      },
      "source": [
        "#check correlation\n",
        "heatmap(DataTest)"
      ],
      "execution_count": null,
      "outputs": [
        {
          "output_type": "display_data",
          "data": {
            "image/png": "[encoded data removed]",
            "text/plain": [
              "<Figure size 792x576 with 2 Axes>"
            ]
          },
          "metadata": {
            "tags": []
          }
        }
      ]
    },
    {
      "cell_type": "code",
      "metadata": {
        "colab": {
          "base_uri": "https://localhost:8080/"
        },
        "id": "U41gtCMeVaBk",
        "outputId": "f16160da-12e5-421e-f97c-1e35f71ed1c3"
      },
      "source": [
        "#outlier\n",
        "Check_outlier(DataTest)\n",
        "plt.title(\"Data Test\")"
      ],
      "execution_count": null,
      "outputs": [
        {
          "output_type": "execute_result",
          "data": {
            "text/plain": [
              "Text(0.5, 1.0, 'Data Test')"
            ]
          },
          "metadata": {
            "tags": []
          },
          "execution_count": 25
        },
        {
          "output_type": "display_data",
          "data": {
            "text/plain": [
              "<Figure size 10800x14400 with 0 Axes>"
            ]
          },
          "metadata": {
            "tags": []
          }
        },
        {
          "output_type": "display_data",
          "data": {
            "image/png": "[encoded data removed]",
            "text/plain": [
              "<Figure size 792x576 with 8 Axes>"
            ]
          },
          "metadata": {
            "tags": []
          }
        }
      ]
    },
    {
      "cell_type": "code",
      "metadata": {
        "colab": {
          "base_uri": "https://localhost:8080/"
        },
        "id": "60eLfhnWVjRF",
        "outputId": "2f04d2a6-5329-4a49-9d18-8b4bc46072e6"
      },
      "source": [
        "Check_outlierPremi(DataTest)"
      ],
      "execution_count": null,
      "outputs": [
        {
          "output_type": "stream",
          "text": [
            "amount of outlier data 1271\n",
            "amount of outlier data 206\n",
            "amount of outlier data 39\n",
            "amount of outlier data 1\n",
            "amount of outlier data 0\n"
          ],
          "name": "stdout"
        }
      ]
    },
    {
      "cell_type": "code",
      "metadata": {
        "colab": {
          "base_uri": "https://localhost:8080/"
        },
        "id": "JSwUCMpRVvK0",
        "outputId": "2651d175-a8f7-4640-8c95-c4cb61ae52f1"
      },
      "source": [
        "Check_outlierUmur(DataTest)"
      ],
      "execution_count": null,
      "outputs": [
        {
          "output_type": "stream",
          "text": [
            "amount of outlier data 0\n"
          ],
          "name": "stdout"
        }
      ]
    },
    {
      "cell_type": "code",
      "metadata": {
        "colab": {
          "base_uri": "https://localhost:8080/"
        },
        "id": "PM1t3Ko8VzNL",
        "outputId": "253ec622-f1ef-49e6-d114-78a04f5333f2"
      },
      "source": [
        "Check_outlier(DataTest)\n",
        "plt.title(\"Data Test\")"
      ],
      "execution_count": null,
      "outputs": [
        {
          "output_type": "execute_result",
          "data": {
            "text/plain": [
              "Text(0.5, 1.0, 'Data Test')"
            ]
          },
          "metadata": {
            "tags": []
          },
          "execution_count": 28
        },
        {
          "output_type": "display_data",
          "data": {
            "text/plain": [
              "<Figure size 10800x14400 with 0 Axes>"
            ]
          },
          "metadata": {
            "tags": []
          }
        },
        {
          "output_type": "display_data",
          "data": {
            "image/png": "[encoded data removed]",
            "text/plain": [
              "<Figure size 792x576 with 8 Axes>"
            ]
          },
          "metadata": {
            "tags": []
          }
        }
      ]
    },
    {
      "cell_type": "code",
      "metadata": {
        "colab": {
          "base_uri": "https://localhost:8080/"
        },
        "id": "G0FyuLtVheQq",
        "outputId": "a8c06ef3-5262-4e9f-cb2d-2317dd7a88e0"
      },
      "source": [
        "print(len(DataTrain))\n",
        "print(len(DataTest))"
      ],
      "execution_count": null,
      "outputs": [
        {
          "output_type": "stream",
          "text": [
            "225281\n",
            "46122\n"
          ],
          "name": "stdout"
        }
      ]
    },
    {
      "cell_type": "code",
      "metadata": {
        "colab": {
          "base_uri": "https://localhost:8080/"
        },
        "id": "7r-78GfWMmud",
        "outputId": "12d10ac3-16e8-4482-f287-005653020361"
      },
      "source": [
        "sns.set(style=\"whitegrid\")\n",
        "sns.countplot(DataTest.Tertarik)\n",
        "plt.title(\"Cek imbalanced\")\n",
        "plt.show()"
      ],
      "execution_count": null,
      "outputs": [
        {
          "output_type": "stream",
          "text": [
            "/usr/local/lib/python3.7/dist-packages/seaborn/_decorators.py:43: FutureWarning: Pass the following variable as a keyword arg: x. From version 0.12, the only valid positional argument will be `data`, and passing other arguments without an explicit keyword will result in an error or misinterpretation.\n",
            "  FutureWarning\n"
          ],
          "name": "stderr"
        },
        {
          "output_type": "display_data",
          "data": {
            "image/png": "[encoded data removed]",
            "text/plain": [
              "<Figure size 792x576 with 1 Axes>"
            ]
          },
          "metadata": {
            "tags": []
          }
        }
      ]
    },
    {
      "cell_type": "markdown",
      "metadata": {
        "id": "14eidlX4eRg3"
      },
      "source": [
        "## Atribut Pemodelan\n",
        "atribut pemodelan yang akan melakukan proses klasifikasi yaitu \"Jenis_Kelamin\tUmur\tSIM\tKode_Daerah\tSudah_Asuransi\tUmur_Kendaraan\tKendaraan_Rusak\tPremi\tKanal_Penjualan\tLama_Berlangganan\tTertarik\" untuk data Train akan di tampung oleh variable Train begitupun juga dengan data Test yang akan di tampung oleh var Test\n",
        "\n",
        "class target memiliki atribut \"Tertarik\" yang akan ditampung oleh variable targetTrain dan targetTest"
      ]
    },
    {
      "cell_type": "code",
      "metadata": {
        "colab": {
          "base_uri": "https://localhost:8080/"
        },
        "id": "3yUr7_OwI6Bm",
        "outputId": "4565a7b4-5474-4da1-90c3-b4ded21f0934"
      },
      "source": [
        "targetTrain = DataTrain['Tertarik']\n",
        "Train = DataTrain.drop(['id'], axis=1)\n",
        "Train.head(3)"
      ],
      "execution_count": null,
      "outputs": [
        {
          "output_type": "execute_result",
          "data": {
            "text/html": [
              "<div>\n",
              "<style scoped>\n",
              "    .dataframe tbody tr th:only-of-type {\n",
              "        vertical-align: middle;\n",
              "    }\n",
              "\n",
              "    .dataframe tbody tr th {\n",
              "        vertical-align: top;\n",
              "    }\n",
              "\n",
              "    .dataframe thead th {\n",
              "        text-align: right;\n",
              "    }\n",
              "</style>\n",
              "<table border=\"1\" class=\"dataframe\">\n",
              "  <thead>\n",
              "    <tr style=\"text-align: right;\">\n",
              "      <th></th>\n",
              "      <th>Jenis_Kelamin</th>\n",
              "      <th>Umur</th>\n",
              "      <th>SIM</th>\n",
              "      <th>Kode_Daerah</th>\n",
              "      <th>Sudah_Asuransi</th>\n",
              "      <th>Umur_Kendaraan</th>\n",
              "      <th>Kendaraan_Rusak</th>\n",
              "      <th>Premi</th>\n",
              "      <th>Kanal_Penjualan</th>\n",
              "      <th>Lama_Berlangganan</th>\n",
              "      <th>Tertarik</th>\n",
              "    </tr>\n",
              "  </thead>\n",
              "  <tbody>\n",
              "    <tr>\n",
              "      <th>0</th>\n",
              "      <td>1</td>\n",
              "      <td>30.0</td>\n",
              "      <td>1.0</td>\n",
              "      <td>33.0</td>\n",
              "      <td>1.0</td>\n",
              "      <td>1</td>\n",
              "      <td>0</td>\n",
              "      <td>28029.0</td>\n",
              "      <td>152.0</td>\n",
              "      <td>97.0</td>\n",
              "      <td>0</td>\n",
              "    </tr>\n",
              "    <tr>\n",
              "      <th>1</th>\n",
              "      <td>0</td>\n",
              "      <td>48.0</td>\n",
              "      <td>1.0</td>\n",
              "      <td>39.0</td>\n",
              "      <td>0.0</td>\n",
              "      <td>2</td>\n",
              "      <td>1</td>\n",
              "      <td>25800.0</td>\n",
              "      <td>29.0</td>\n",
              "      <td>158.0</td>\n",
              "      <td>0</td>\n",
              "    </tr>\n",
              "    <tr>\n",
              "      <th>2</th>\n",
              "      <td>0</td>\n",
              "      <td>21.0</td>\n",
              "      <td>1.0</td>\n",
              "      <td>46.0</td>\n",
              "      <td>1.0</td>\n",
              "      <td>1</td>\n",
              "      <td>0</td>\n",
              "      <td>32733.0</td>\n",
              "      <td>160.0</td>\n",
              "      <td>119.0</td>\n",
              "      <td>0</td>\n",
              "    </tr>\n",
              "  </tbody>\n",
              "</table>\n",
              "</div>"
            ],
            "text/plain": [
              "   Jenis_Kelamin  Umur  SIM  ...  Kanal_Penjualan  Lama_Berlangganan  Tertarik\n",
              "0              1  30.0  1.0  ...            152.0               97.0         0\n",
              "1              0  48.0  1.0  ...             29.0              158.0         0\n",
              "2              0  21.0  1.0  ...            160.0              119.0         0\n",
              "\n",
              "[3 rows x 11 columns]"
            ]
          },
          "metadata": {
            "tags": []
          },
          "execution_count": 31
        }
      ]
    },
    {
      "cell_type": "code",
      "metadata": {
        "colab": {
          "base_uri": "https://localhost:8080/"
        },
        "id": "juDKhS89LivY",
        "outputId": "cc21b885-cd1e-40ed-e704-453ffd862d67"
      },
      "source": [
        "Train = Train.drop(['Tertarik'], axis=1)\n",
        "Train.head(3)"
      ],
      "execution_count": null,
      "outputs": [
        {
          "output_type": "execute_result",
          "data": {
            "text/html": [
              "<div>\n",
              "<style scoped>\n",
              "    .dataframe tbody tr th:only-of-type {\n",
              "        vertical-align: middle;\n",
              "    }\n",
              "\n",
              "    .dataframe tbody tr th {\n",
              "        vertical-align: top;\n",
              "    }\n",
              "\n",
              "    .dataframe thead th {\n",
              "        text-align: right;\n",
              "    }\n",
              "</style>\n",
              "<table border=\"1\" class=\"dataframe\">\n",
              "  <thead>\n",
              "    <tr style=\"text-align: right;\">\n",
              "      <th></th>\n",
              "      <th>Jenis_Kelamin</th>\n",
              "      <th>Umur</th>\n",
              "      <th>SIM</th>\n",
              "      <th>Kode_Daerah</th>\n",
              "      <th>Sudah_Asuransi</th>\n",
              "      <th>Umur_Kendaraan</th>\n",
              "      <th>Kendaraan_Rusak</th>\n",
              "      <th>Premi</th>\n",
              "      <th>Kanal_Penjualan</th>\n",
              "      <th>Lama_Berlangganan</th>\n",
              "    </tr>\n",
              "  </thead>\n",
              "  <tbody>\n",
              "    <tr>\n",
              "      <th>0</th>\n",
              "      <td>1</td>\n",
              "      <td>30.0</td>\n",
              "      <td>1.0</td>\n",
              "      <td>33.0</td>\n",
              "      <td>1.0</td>\n",
              "      <td>1</td>\n",
              "      <td>0</td>\n",
              "      <td>28029.0</td>\n",
              "      <td>152.0</td>\n",
              "      <td>97.0</td>\n",
              "    </tr>\n",
              "    <tr>\n",
              "      <th>1</th>\n",
              "      <td>0</td>\n",
              "      <td>48.0</td>\n",
              "      <td>1.0</td>\n",
              "      <td>39.0</td>\n",
              "      <td>0.0</td>\n",
              "      <td>2</td>\n",
              "      <td>1</td>\n",
              "      <td>25800.0</td>\n",
              "      <td>29.0</td>\n",
              "      <td>158.0</td>\n",
              "    </tr>\n",
              "    <tr>\n",
              "      <th>2</th>\n",
              "      <td>0</td>\n",
              "      <td>21.0</td>\n",
              "      <td>1.0</td>\n",
              "      <td>46.0</td>\n",
              "      <td>1.0</td>\n",
              "      <td>1</td>\n",
              "      <td>0</td>\n",
              "      <td>32733.0</td>\n",
              "      <td>160.0</td>\n",
              "      <td>119.0</td>\n",
              "    </tr>\n",
              "  </tbody>\n",
              "</table>\n",
              "</div>"
            ],
            "text/plain": [
              "   Jenis_Kelamin  Umur  SIM  ...    Premi  Kanal_Penjualan  Lama_Berlangganan\n",
              "0              1  30.0  1.0  ...  28029.0            152.0               97.0\n",
              "1              0  48.0  1.0  ...  25800.0             29.0              158.0\n",
              "2              0  21.0  1.0  ...  32733.0            160.0              119.0\n",
              "\n",
              "[3 rows x 10 columns]"
            ]
          },
          "metadata": {
            "tags": []
          },
          "execution_count": 32
        }
      ]
    },
    {
      "cell_type": "code",
      "metadata": {
        "colab": {
          "base_uri": "https://localhost:8080/"
        },
        "id": "mIkTzAHzJAtH",
        "outputId": "7e7929e5-ee2b-4153-ca62-6c04b46c6f16"
      },
      "source": [
        "targetTest = DataTest['Tertarik']\n",
        "Test = DataTest.drop(['Tertarik'], axis=1)\n",
        "Test.head(3)"
      ],
      "execution_count": null,
      "outputs": [
        {
          "output_type": "execute_result",
          "data": {
            "text/html": [
              "<div>\n",
              "<style scoped>\n",
              "    .dataframe tbody tr th:only-of-type {\n",
              "        vertical-align: middle;\n",
              "    }\n",
              "\n",
              "    .dataframe tbody tr th {\n",
              "        vertical-align: top;\n",
              "    }\n",
              "\n",
              "    .dataframe thead th {\n",
              "        text-align: right;\n",
              "    }\n",
              "</style>\n",
              "<table border=\"1\" class=\"dataframe\">\n",
              "  <thead>\n",
              "    <tr style=\"text-align: right;\">\n",
              "      <th></th>\n",
              "      <th>Jenis_Kelamin</th>\n",
              "      <th>Umur</th>\n",
              "      <th>SIM</th>\n",
              "      <th>Kode_Daerah</th>\n",
              "      <th>Sudah_Asuransi</th>\n",
              "      <th>Umur_Kendaraan</th>\n",
              "      <th>Kendaraan_Rusak</th>\n",
              "      <th>Premi</th>\n",
              "      <th>Kanal_Penjualan</th>\n",
              "      <th>Lama_Berlangganan</th>\n",
              "    </tr>\n",
              "  </thead>\n",
              "  <tbody>\n",
              "    <tr>\n",
              "      <th>0</th>\n",
              "      <td>1</td>\n",
              "      <td>49</td>\n",
              "      <td>1</td>\n",
              "      <td>8</td>\n",
              "      <td>0</td>\n",
              "      <td>0</td>\n",
              "      <td>1</td>\n",
              "      <td>46963</td>\n",
              "      <td>26</td>\n",
              "      <td>145</td>\n",
              "    </tr>\n",
              "    <tr>\n",
              "      <th>1</th>\n",
              "      <td>0</td>\n",
              "      <td>22</td>\n",
              "      <td>1</td>\n",
              "      <td>47</td>\n",
              "      <td>1</td>\n",
              "      <td>1</td>\n",
              "      <td>0</td>\n",
              "      <td>39624</td>\n",
              "      <td>152</td>\n",
              "      <td>241</td>\n",
              "    </tr>\n",
              "    <tr>\n",
              "      <th>3</th>\n",
              "      <td>0</td>\n",
              "      <td>46</td>\n",
              "      <td>1</td>\n",
              "      <td>8</td>\n",
              "      <td>1</td>\n",
              "      <td>0</td>\n",
              "      <td>0</td>\n",
              "      <td>36266</td>\n",
              "      <td>124</td>\n",
              "      <td>34</td>\n",
              "    </tr>\n",
              "  </tbody>\n",
              "</table>\n",
              "</div>"
            ],
            "text/plain": [
              "   Jenis_Kelamin  Umur  SIM  ...  Premi  Kanal_Penjualan  Lama_Berlangganan\n",
              "0              1    49    1  ...  46963               26                145\n",
              "1              0    22    1  ...  39624              152                241\n",
              "3              0    46    1  ...  36266              124                 34\n",
              "\n",
              "[3 rows x 10 columns]"
            ]
          },
          "metadata": {
            "tags": []
          },
          "execution_count": 33
        }
      ]
    },
    {
      "cell_type": "code",
      "metadata": {
        "colab": {
          "base_uri": "https://localhost:8080/"
        },
        "id": "HZE8vw-QPdDl",
        "outputId": "fd1fd0bf-ad32-427c-f386-3a2a0dc915d6"
      },
      "source": [
        "print(len(targetTest))\n",
        "print(len(targetTrain))"
      ],
      "execution_count": null,
      "outputs": [
        {
          "output_type": "stream",
          "text": [
            "46122\n",
            "225281\n"
          ],
          "name": "stdout"
        }
      ]
    },
    {
      "cell_type": "markdown",
      "metadata": {
        "id": "ZK6Dg8gJknFl"
      },
      "source": [
        "## Feature Scalling\n",
        "Data akan berubah menjadi rata-rata -1 dan deviasi 1"
      ]
    },
    {
      "cell_type": "code",
      "metadata": {
        "id": "knmNpAznkqIl"
      },
      "source": [
        "from sklearn.preprocessing import StandardScaler\n",
        "\n",
        "def scale(data):\n",
        "  scaler = StandardScaler()\n",
        "  classification = scaler.fit_transform(data)\n",
        "  classification = pd.DataFrame(classification, columns=[\"Jenis_Kelamin\",\t\"Umur\",\t\"SIM\",\t\"Kode_Daerah\",\t\"Sudah_Asuransi\",\t\"Umur_Kendaraan\",\t\n",
        "                                                         \"Kendaraan_Rusak\",\t\"Premi\",\t\"Kanal_Penjualan\"\t,\"Lama_Berlangganan\"]) \n",
        "  return classification"
      ],
      "execution_count": null,
      "outputs": []
    },
    {
      "cell_type": "code",
      "metadata": {
        "colab": {
          "base_uri": "https://localhost:8080/",
          "height": 204
        },
        "id": "J2gfxTJllqFN",
        "outputId": "99fb51e1-073d-4787-f3b9-e7dc78df7451"
      },
      "source": [
        "Train = scale(Train)\n",
        "Train.head()"
      ],
      "execution_count": null,
      "outputs": [
        {
          "output_type": "execute_result",
          "data": {
            "text/html": [
              "<div>\n",
              "<style scoped>\n",
              "    .dataframe tbody tr th:only-of-type {\n",
              "        vertical-align: middle;\n",
              "    }\n",
              "\n",
              "    .dataframe tbody tr th {\n",
              "        vertical-align: top;\n",
              "    }\n",
              "\n",
              "    .dataframe thead th {\n",
              "        text-align: right;\n",
              "    }\n",
              "</style>\n",
              "<table border=\"1\" class=\"dataframe\">\n",
              "  <thead>\n",
              "    <tr style=\"text-align: right;\">\n",
              "      <th></th>\n",
              "      <th>Jenis_Kelamin</th>\n",
              "      <th>Umur</th>\n",
              "      <th>SIM</th>\n",
              "      <th>Kode_Daerah</th>\n",
              "      <th>Sudah_Asuransi</th>\n",
              "      <th>Umur_Kendaraan</th>\n",
              "      <th>Kendaraan_Rusak</th>\n",
              "      <th>Premi</th>\n",
              "      <th>Kanal_Penjualan</th>\n",
              "      <th>Lama_Berlangganan</th>\n",
              "    </tr>\n",
              "  </thead>\n",
              "  <tbody>\n",
              "    <tr>\n",
              "      <th>0</th>\n",
              "      <td>1.121486</td>\n",
              "      <td>-0.536832</td>\n",
              "      <td>0.046695</td>\n",
              "      <td>0.508826</td>\n",
              "      <td>1.065773</td>\n",
              "      <td>0.855195</td>\n",
              "      <td>-1.019875</td>\n",
              "      <td>-0.747806</td>\n",
              "      <td>0.751396</td>\n",
              "      <td>-0.701329</td>\n",
              "    </tr>\n",
              "    <tr>\n",
              "      <th>1</th>\n",
              "      <td>-0.891674</td>\n",
              "      <td>0.659995</td>\n",
              "      <td>0.046695</td>\n",
              "      <td>0.978516</td>\n",
              "      <td>-0.987291</td>\n",
              "      <td>2.614430</td>\n",
              "      <td>0.980512</td>\n",
              "      <td>-1.030433</td>\n",
              "      <td>-1.604149</td>\n",
              "      <td>0.045660</td>\n",
              "    </tr>\n",
              "    <tr>\n",
              "      <th>2</th>\n",
              "      <td>-0.891674</td>\n",
              "      <td>-1.135246</td>\n",
              "      <td>0.046695</td>\n",
              "      <td>1.526488</td>\n",
              "      <td>1.065773</td>\n",
              "      <td>0.855195</td>\n",
              "      <td>-1.019875</td>\n",
              "      <td>-0.151359</td>\n",
              "      <td>0.904602</td>\n",
              "      <td>-0.431923</td>\n",
              "    </tr>\n",
              "    <tr>\n",
              "      <th>3</th>\n",
              "      <td>-0.891674</td>\n",
              "      <td>0.792976</td>\n",
              "      <td>0.046695</td>\n",
              "      <td>0.665389</td>\n",
              "      <td>-0.987291</td>\n",
              "      <td>2.614430</td>\n",
              "      <td>0.980512</td>\n",
              "      <td>0.117955</td>\n",
              "      <td>-0.474254</td>\n",
              "      <td>0.486506</td>\n",
              "    </tr>\n",
              "    <tr>\n",
              "      <th>4</th>\n",
              "      <td>-0.891674</td>\n",
              "      <td>-1.135246</td>\n",
              "      <td>0.046695</td>\n",
              "      <td>0.665389</td>\n",
              "      <td>1.065773</td>\n",
              "      <td>0.855195</td>\n",
              "      <td>-1.019875</td>\n",
              "      <td>-1.419061</td>\n",
              "      <td>0.751396</td>\n",
              "      <td>0.204855</td>\n",
              "    </tr>\n",
              "  </tbody>\n",
              "</table>\n",
              "</div>"
            ],
            "text/plain": [
              "   Jenis_Kelamin      Umur  ...  Kanal_Penjualan  Lama_Berlangganan\n",
              "0       1.121486 -0.536832  ...         0.751396          -0.701329\n",
              "1      -0.891674  0.659995  ...        -1.604149           0.045660\n",
              "2      -0.891674 -1.135246  ...         0.904602          -0.431923\n",
              "3      -0.891674  0.792976  ...        -0.474254           0.486506\n",
              "4      -0.891674 -1.135246  ...         0.751396           0.204855\n",
              "\n",
              "[5 rows x 10 columns]"
            ]
          },
          "metadata": {
            "tags": []
          },
          "execution_count": 36
        }
      ]
    },
    {
      "cell_type": "code",
      "metadata": {
        "colab": {
          "base_uri": "https://localhost:8080/",
          "height": 204
        },
        "id": "Dspr5kAcmAQq",
        "outputId": "76f35282-2328-4c19-d3e6-e3301d8a63db"
      },
      "source": [
        "Test = scale(Test)\n",
        "Test.head()"
      ],
      "execution_count": null,
      "outputs": [
        {
          "output_type": "execute_result",
          "data": {
            "text/html": [
              "<div>\n",
              "<style scoped>\n",
              "    .dataframe tbody tr th:only-of-type {\n",
              "        vertical-align: middle;\n",
              "    }\n",
              "\n",
              "    .dataframe tbody tr th {\n",
              "        vertical-align: top;\n",
              "    }\n",
              "\n",
              "    .dataframe thead th {\n",
              "        text-align: right;\n",
              "    }\n",
              "</style>\n",
              "<table border=\"1\" class=\"dataframe\">\n",
              "  <thead>\n",
              "    <tr style=\"text-align: right;\">\n",
              "      <th></th>\n",
              "      <th>Jenis_Kelamin</th>\n",
              "      <th>Umur</th>\n",
              "      <th>SIM</th>\n",
              "      <th>Kode_Daerah</th>\n",
              "      <th>Sudah_Asuransi</th>\n",
              "      <th>Umur_Kendaraan</th>\n",
              "      <th>Kendaraan_Rusak</th>\n",
              "      <th>Premi</th>\n",
              "      <th>Kanal_Penjualan</th>\n",
              "      <th>Lama_Berlangganan</th>\n",
              "    </tr>\n",
              "  </thead>\n",
              "  <tbody>\n",
              "    <tr>\n",
              "      <th>0</th>\n",
              "      <td>1.089836</td>\n",
              "      <td>0.672491</td>\n",
              "      <td>0.044707</td>\n",
              "      <td>-1.381927</td>\n",
              "      <td>-0.923074</td>\n",
              "      <td>-0.903920</td>\n",
              "      <td>0.996019</td>\n",
              "      <td>1.217690</td>\n",
              "      <td>-1.611489</td>\n",
              "      <td>-0.111794</td>\n",
              "    </tr>\n",
              "    <tr>\n",
              "      <th>1</th>\n",
              "      <td>-0.917569</td>\n",
              "      <td>-1.074527</td>\n",
              "      <td>0.044707</td>\n",
              "      <td>1.549101</td>\n",
              "      <td>1.083337</td>\n",
              "      <td>0.837905</td>\n",
              "      <td>-1.003997</td>\n",
              "      <td>0.716016</td>\n",
              "      <td>0.725593</td>\n",
              "      <td>1.036152</td>\n",
              "    </tr>\n",
              "    <tr>\n",
              "      <th>2</th>\n",
              "      <td>-0.917569</td>\n",
              "      <td>0.478378</td>\n",
              "      <td>0.044707</td>\n",
              "      <td>-1.381927</td>\n",
              "      <td>1.083337</td>\n",
              "      <td>-0.903920</td>\n",
              "      <td>-1.003997</td>\n",
              "      <td>0.486472</td>\n",
              "      <td>0.206241</td>\n",
              "      <td>-1.439106</td>\n",
              "    </tr>\n",
              "    <tr>\n",
              "      <th>3</th>\n",
              "      <td>-0.917569</td>\n",
              "      <td>-0.233370</td>\n",
              "      <td>0.044707</td>\n",
              "      <td>-0.254608</td>\n",
              "      <td>-0.923074</td>\n",
              "      <td>-0.903920</td>\n",
              "      <td>0.996019</td>\n",
              "      <td>-0.149456</td>\n",
              "      <td>0.725593</td>\n",
              "      <td>0.892659</td>\n",
              "    </tr>\n",
              "    <tr>\n",
              "      <th>4</th>\n",
              "      <td>-0.917569</td>\n",
              "      <td>-0.815709</td>\n",
              "      <td>0.044707</td>\n",
              "      <td>0.121164</td>\n",
              "      <td>1.083337</td>\n",
              "      <td>0.837905</td>\n",
              "      <td>-1.003997</td>\n",
              "      <td>0.927718</td>\n",
              "      <td>0.725593</td>\n",
              "      <td>0.521968</td>\n",
              "    </tr>\n",
              "  </tbody>\n",
              "</table>\n",
              "</div>"
            ],
            "text/plain": [
              "   Jenis_Kelamin      Umur  ...  Kanal_Penjualan  Lama_Berlangganan\n",
              "0       1.089836  0.672491  ...        -1.611489          -0.111794\n",
              "1      -0.917569 -1.074527  ...         0.725593           1.036152\n",
              "2      -0.917569  0.478378  ...         0.206241          -1.439106\n",
              "3      -0.917569 -0.233370  ...         0.725593           0.892659\n",
              "4      -0.917569 -0.815709  ...         0.725593           0.521968\n",
              "\n",
              "[5 rows x 10 columns]"
            ]
          },
          "metadata": {
            "tags": []
          },
          "execution_count": 37
        }
      ]
    },
    {
      "cell_type": "markdown",
      "metadata": {
        "id": "X6C9xSQ3V8_p"
      },
      "source": [
        "## Split data\n",
        "split data yang akan digunakan untuk klasifikasi"
      ]
    },
    {
      "cell_type": "code",
      "metadata": {
        "id": "YHq2jMFRezSA"
      },
      "source": [
        "Xtrain, ytrain = Train[:], targetTrain\n",
        "Xtest, ytest = Test[:], targetTest"
      ],
      "execution_count": null,
      "outputs": []
    },
    {
      "cell_type": "markdown",
      "metadata": {
        "id": "7lAHywjU_ugv"
      },
      "source": [
        "### undersampling\n",
        "digunakan untuk mengatasi permasalahan data yang tidak seimbang dengan mengurangi ukuran kelas yang berlimpah."
      ]
    },
    {
      "cell_type": "code",
      "metadata": {
        "colab": {
          "base_uri": "https://localhost:8080/"
        },
        "id": "VrGfMV_htTHV",
        "outputId": "d89fc0d3-993d-488b-a21f-dbeaa345f0f3"
      },
      "source": [
        "from imblearn.under_sampling import RandomUnderSampler\n",
        "from collections import Counter\n",
        "import warnings\n",
        "warnings.simplefilter(action='ignore', category=FutureWarning)\n",
        "# define undersampling strategy\n",
        "print(\"Before undersampling: \", Counter(ytrain))\n",
        "undersample = RandomUnderSampler(sampling_strategy='majority')\n",
        "\n",
        "# fit and apply the transform\n",
        "X_train_under, y_train_under = undersample.fit_resample(Xtrain, ytrain)\n",
        "\n",
        "# summarize class distribution\n",
        "print(\"After undersampling: \", Counter(y_train_under))"
      ],
      "execution_count": null,
      "outputs": [
        {
          "output_type": "stream",
          "text": [
            "Before undersampling:  Counter({0: 198422, 1: 26859})\n",
            "After undersampling:  Counter({0: 26859, 1: 26859})\n"
          ],
          "name": "stdout"
        },
        {
          "output_type": "stream",
          "text": [
            "/usr/local/lib/python3.7/dist-packages/sklearn/externals/six.py:31: FutureWarning: The module is deprecated in version 0.21 and will be removed in version 0.23 since we've dropped support for Python 2.7. Please rely on the official version of six (https://pypi.org/project/six/).\n",
            "  \"(https://pypi.org/project/six/).\", FutureWarning)\n",
            "/usr/local/lib/python3.7/dist-packages/sklearn/utils/deprecation.py:144: FutureWarning: The sklearn.neighbors.base module is  deprecated in version 0.22 and will be removed in version 0.24. The corresponding classes / functions should instead be imported from sklearn.neighbors. Anything that cannot be imported from sklearn.neighbors is now part of the private API.\n",
            "  warnings.warn(message, FutureWarning)\n"
          ],
          "name": "stderr"
        }
      ]
    },
    {
      "cell_type": "code",
      "metadata": {
        "colab": {
          "base_uri": "https://localhost:8080/"
        },
        "id": "8w0EeztVtXa6",
        "outputId": "00b77469-d99a-4d99-9132-ce4957860e7d"
      },
      "source": [
        "from imblearn.under_sampling import RandomUnderSampler\n",
        "from collections import Counter\n",
        "# define undersampling strategy\n",
        "print(\"Before undersampling: \", Counter(ytest))\n",
        "undersample = RandomUnderSampler(sampling_strategy='majority')\n",
        "\n",
        "# fit and apply the transform\n",
        "X_test_under, y_test_under = undersample.fit_resample(Xtest, ytest)\n",
        "\n",
        "# summarize class distribution\n",
        "print(\"After undersampling: \", Counter(y_test_under))"
      ],
      "execution_count": null,
      "outputs": [
        {
          "output_type": "stream",
          "text": [
            "Before undersampling:  Counter({0: 40482, 1: 5640})\n",
            "After undersampling:  Counter({0: 5640, 1: 5640})\n"
          ],
          "name": "stdout"
        }
      ]
    },
    {
      "cell_type": "code",
      "metadata": {
        "colab": {
          "base_uri": "https://localhost:8080/"
        },
        "id": "ao9c3l1VRi7o",
        "outputId": "1ae300f2-fec6-45ed-9536-7657a81e2f88"
      },
      "source": [
        "print(\"Xtrain Value\")\n",
        "print(X_train_under)\n",
        "print(\"Xtest Value\")\n",
        "print(X_test_under)\n",
        "print(\"ytrain Value\")\n",
        "print(y_train_under)\n",
        "print(\"ytest Value\")\n",
        "print(y_test_under)"
      ],
      "execution_count": null,
      "outputs": [
        {
          "output_type": "stream",
          "text": [
            "Xtrain Value\n",
            "[[-0.89167373 -1.20173605  0.04669516 ... -0.41953172  0.90460211\n",
            "  -0.0400598 ]\n",
            " [ 1.12148645  1.05893756  0.04669516 ...  0.86516122 -1.16368155\n",
            "   0.87836915]\n",
            " [ 1.12148645  0.79297596  0.04669516 ... -0.53415493  0.17687267\n",
            "   0.89061487]\n",
            " ...\n",
            " [ 1.12148645  0.39403356  0.04669516 ...  2.30910941 -1.66160169\n",
            "   1.68658662]\n",
            " [-0.89167373  0.19456236  0.04669516 ... -0.63800052 -1.92971253\n",
            "  -0.06455123]\n",
            " [-0.89167373 -0.53683205  0.04669516 ... -1.72400476 -0.01422206\n",
            "   0.14362599]]\n",
            "Xtest Value\n",
            "[[-0.91756902 -1.13923119  0.04470678 ... -0.62713693  0.87397908\n",
            "   1.35901172]\n",
            " [ 1.08983627 -0.81570944  0.04470678 ... -0.41898897  0.72559289\n",
            "  -0.51835793]\n",
            " [ 1.08983627 -1.00982249  0.04470678 ...  0.13880656  0.72559289\n",
            "   1.35901172]\n",
            " ...\n",
            " [ 1.08983627  2.22539505  0.04470678 ... -1.8127942   0.92962389\n",
            "  -1.39127503]\n",
            " [ 1.08983627  0.15485582  0.04470678 ... -0.60642467  0.20624125\n",
            "  -0.59010455]\n",
            " [-0.91756902  1.31953414  0.04470678 ...  0.59051156 -1.61148948\n",
            "   1.01223643]]\n",
            "ytrain Value\n",
            "[0 0 0 ... 1 1 1]\n",
            "ytest Value\n",
            "[0 0 0 ... 1 1 1]\n"
          ],
          "name": "stdout"
        }
      ]
    },
    {
      "cell_type": "code",
      "metadata": {
        "id": "zYVJqYs_BrLi",
        "colab": {
          "base_uri": "https://localhost:8080/"
        },
        "outputId": "1cfba01d-bfdb-4f4d-a195-fbeb7187d7fd"
      },
      "source": [
        "print(len(y_train_under))\n",
        "print(len(X_train_under))\n",
        "print(len(y_test_under))\n",
        "print(len(X_test_under))"
      ],
      "execution_count": null,
      "outputs": [
        {
          "output_type": "stream",
          "text": [
            "53718\n",
            "53718\n",
            "11280\n",
            "11280\n"
          ],
          "name": "stdout"
        }
      ]
    },
    {
      "cell_type": "markdown",
      "metadata": {
        "id": "_r-nvvjvRTs6"
      },
      "source": [
        "# Pemodelan"
      ]
    },
    {
      "cell_type": "markdown",
      "metadata": {
        "id": "dhh68QiRAAIS"
      },
      "source": [
        "Confusion metrics digunakan untuk mengetahui TN, TP, FN, FP"
      ]
    },
    {
      "cell_type": "code",
      "metadata": {
        "id": "E_0e0Ft6TgQf"
      },
      "source": [
        "from sklearn import metrics\n",
        "\n",
        "def confusion_metrics(y_test,y_pred):\n",
        "    #Showing Confusion Matrix to know True Positive, False Positive, True Negative and False Negative   \n",
        "    cm = metrics.confusion_matrix(y_test, y_pred)\n",
        "    cm_df = pd.DataFrame(cm, \n",
        "                         columns = ['Predicted Negative', 'Predicted Positive'], \n",
        "                         index = ['Actual Negative', 'Actual Positive'])\n",
        "\n",
        "    #Assign True Positive, False Positive, True Negative and False Negative intu variable\n",
        "    TN = cm_df.loc['Actual Negative','Predicted Negative']\n",
        "    FN = cm_df.loc['Actual Positive','Predicted Negative']\n",
        "    FP = cm_df.loc['Actual Negative','Predicted Positive']\n",
        "    TP = cm_df.loc['Actual Positive','Predicted Positive']\n",
        "    \n",
        "    print('True Negative  : ',TN)\n",
        "    print('False Negative : ',FN)\n",
        "    print('False Positive : ',FP)\n",
        "    print('True Positive  : ',TP)\n",
        "    print('')\n",
        "    \n",
        "    #Find Precision, Recall, and F1-Score\n",
        "    from sklearn.metrics import classification_report\n",
        "    print(classification_report(y_test,y_pred))"
      ],
      "execution_count": null,
      "outputs": []
    },
    {
      "cell_type": "markdown",
      "metadata": {
        "id": "pvyrVUs3EuzD"
      },
      "source": [
        "### SVM"
      ]
    },
    {
      "cell_type": "code",
      "metadata": {
        "id": "tqRjrqc2Ghfm",
        "colab": {
          "base_uri": "https://localhost:8080/"
        },
        "outputId": "bee0d906-37d7-4427-9078-f15e7217e335"
      },
      "source": [
        "svm = SVC(gamma=\"scale\")\n",
        "svm.fit(X_train_under, y_train_under)\n",
        "SVM_pred = svm.predict(X_test_under)\n",
        "print(\"Support Vector Machine\\n\")\n",
        "\n",
        "print(\"F1-SCORE \",f1(y_test_under,SVM_pred,average='macro') * 100)\n",
        "print(\"ACCURACY \",acc(y_test_under,SVM_pred) * 100)\n",
        "print(\"PRECISION \",prec(y_test_under,SVM_pred,average='macro') * 100)\n",
        "print(\"RECALL\",recall(y_test_under,SVM_pred,average='macro') * 100)"
      ],
      "execution_count": null,
      "outputs": [
        {
          "output_type": "stream",
          "text": [
            "Support Vector Machine\n",
            "\n",
            "F1-SCORE  79.16110256176454\n",
            "ACCURACY  79.60106382978724\n",
            "PRECISION  82.33145553424805\n",
            "RECALL 79.60106382978724\n"
          ],
          "name": "stdout"
        }
      ]
    },
    {
      "cell_type": "code",
      "metadata": {
        "id": "hHhevgazheA2",
        "colab": {
          "base_uri": "https://localhost:8080/"
        },
        "outputId": "164e4a92-3085-4ec8-f9b1-135e0b72f6e4"
      },
      "source": [
        "#confusion Metrics\n",
        "confusion_metrics(y_test_under,SVM_pred)"
      ],
      "execution_count": null,
      "outputs": [
        {
          "output_type": "stream",
          "text": [
            "True Negative  :  3670\n",
            "False Negative :  331\n",
            "False Positive :  1970\n",
            "True Positive  :  5309\n",
            "\n",
            "              precision    recall  f1-score   support\n",
            "\n",
            "           0       0.92      0.65      0.76      5640\n",
            "           1       0.73      0.94      0.82      5640\n",
            "\n",
            "    accuracy                           0.80     11280\n",
            "   macro avg       0.82      0.80      0.79     11280\n",
            "weighted avg       0.82      0.80      0.79     11280\n",
            "\n"
          ],
          "name": "stdout"
        }
      ]
    },
    {
      "cell_type": "markdown",
      "metadata": {
        "id": "9jCQJmnpMWjx"
      },
      "source": [
        "## Eksperimen"
      ]
    },
    {
      "cell_type": "markdown",
      "metadata": {
        "id": "_hy0EbL4NdLB"
      },
      "source": [
        "### Random Forest"
      ]
    },
    {
      "cell_type": "code",
      "metadata": {
        "id": "p04--VbdV1I6",
        "colab": {
          "base_uri": "https://localhost:8080/"
        },
        "outputId": "f1372593-9ef4-4ceb-f7a1-6482cfb063a2"
      },
      "source": [
        "rf = RandomForestClassifier(random_state=3).fit(X_train_under, y_train_under)\n",
        "rf_predict = rf.predict(X_test_under)\n",
        "\n",
        "print(\"Random Forest\\n\")\n",
        "\n",
        "print(\"F1-SCORE \",f1(y_test_under,rf_predict,average='macro') * 100)\n",
        "print(\"ACCURACY \",acc(y_test_under,rf_predict) * 100)\n",
        "print(\"PRECISION \",prec(y_test_under,rf_predict,average='macro') * 100)\n",
        "print(\"RECALL\",recall(y_test_under,rf_predict,average='macro') * 100)"
      ],
      "execution_count": null,
      "outputs": [
        {
          "output_type": "stream",
          "text": [
            "Random Forest\n",
            "\n",
            "F1-SCORE  78.60937719734473\n",
            "ACCURACY  78.81205673758865\n",
            "PRECISION  79.9470696571781\n",
            "RECALL 78.81205673758865\n"
          ],
          "name": "stdout"
        }
      ]
    },
    {
      "cell_type": "code",
      "metadata": {
        "id": "znOBdyNUgVet",
        "colab": {
          "base_uri": "https://localhost:8080/"
        },
        "outputId": "715b96ee-16f8-4394-cdbe-181f1079c73a"
      },
      "source": [
        "#confusion Metrics\n",
        "confusion_metrics(y_test_under,rf_predict)"
      ],
      "execution_count": null,
      "outputs": [
        {
          "output_type": "stream",
          "text": [
            "True Negative  :  3896\n",
            "False Negative :  646\n",
            "False Positive :  1744\n",
            "True Positive  :  4994\n",
            "\n",
            "              precision    recall  f1-score   support\n",
            "\n",
            "           0       0.86      0.69      0.77      5640\n",
            "           1       0.74      0.89      0.81      5640\n",
            "\n",
            "    accuracy                           0.79     11280\n",
            "   macro avg       0.80      0.79      0.79     11280\n",
            "weighted avg       0.80      0.79      0.79     11280\n",
            "\n"
          ],
          "name": "stdout"
        }
      ]
    },
    {
      "cell_type": "markdown",
      "metadata": {
        "id": "xmYYUFdocYtI"
      },
      "source": [
        "### KNN"
      ]
    },
    {
      "cell_type": "code",
      "metadata": {
        "id": "rcRW4VI8cZxu",
        "colab": {
          "base_uri": "https://localhost:8080/"
        },
        "outputId": "4e4fdafb-4a14-46a9-d46e-18cc41c306f7"
      },
      "source": [
        "#Create a KNeighbors Classifier\n",
        "knn = KNeighborsClassifier()\n",
        "# Train the model using the training sets\n",
        "knn.fit(X_train_under, y_train_under)\n",
        "#Predict Output\n",
        "knn_predict = knn.predict(X_test_under)\n",
        "# Accuracy score\n",
        "print(\"K NEAREST NEIGHBOR\\n\")\n",
        "\n",
        "print(\"F1-SCORE \",f1(y_test_under,knn_predict,average='macro') * 100)\n",
        "print(\"ACCURACY \",acc(y_test_under,knn_predict) * 100)\n",
        "print(\"PRECISION \",prec(y_test_under,knn_predict,average='macro') * 100)\n",
        "print(\"RECALL\",recall(y_test_under,knn_predict,average='macro') * 100)"
      ],
      "execution_count": null,
      "outputs": [
        {
          "output_type": "stream",
          "text": [
            "K NEAREST NEIGHBOR\n",
            "\n",
            "F1-SCORE  76.6766960195542\n",
            "ACCURACY  76.80851063829788\n",
            "PRECISION  77.42857495744036\n",
            "RECALL 76.80851063829788\n"
          ],
          "name": "stdout"
        }
      ]
    },
    {
      "cell_type": "code",
      "metadata": {
        "id": "P2H546ijgrzV",
        "colab": {
          "base_uri": "https://localhost:8080/"
        },
        "outputId": "af36c84f-cc3d-4b32-bcc0-112d85f13164"
      },
      "source": [
        "#confusion Metrics\n",
        "confusion_metrics(y_test_under,knn_predict)"
      ],
      "execution_count": null,
      "outputs": [
        {
          "output_type": "stream",
          "text": [
            "True Negative  :  3908\n",
            "False Negative :  884\n",
            "False Positive :  1732\n",
            "True Positive  :  4756\n",
            "\n",
            "              precision    recall  f1-score   support\n",
            "\n",
            "           0       0.82      0.69      0.75      5640\n",
            "           1       0.73      0.84      0.78      5640\n",
            "\n",
            "    accuracy                           0.77     11280\n",
            "   macro avg       0.77      0.77      0.77     11280\n",
            "weighted avg       0.77      0.77      0.77     11280\n",
            "\n"
          ],
          "name": "stdout"
        }
      ]
    },
    {
      "cell_type": "markdown",
      "metadata": {
        "id": "P8NcQvfM8HpS"
      },
      "source": [
        "# Prediksi\n",
        "hasil prediksi menggunaka algoritma klasifikasi SVM karena memiliki hasil akurasi yang tinggi dibandingkan dengan algoritma lainnya"
      ]
    },
    {
      "cell_type": "code",
      "metadata": {
        "colab": {
          "base_uri": "https://localhost:8080/",
          "height": 484
        },
        "id": "SpH09R1bFBVT",
        "outputId": "75313667-2878-4889-9dd2-3b2cb356f3f7"
      },
      "source": [
        "tertarik = DataTest['Tertarik'].value_counts()\n",
        "color=['rosybrown', 'gray']\n",
        "\n",
        "fig1, ax1 = plt.subplots()\n",
        "ax1.pie(tertarik.values, labels=['Tidak Tertarik','Tertarik'], autopct='%1.1f%%',colors=color,startangle=10, explode=(\n",
        "    0, 0.20))\n",
        "plt.title('Sebelum prediksi', fontdict={\n",
        "          'fontname': 'Monospace', 'fontsize': 15})\n",
        "plt.legend()\n",
        "plt.legend(prop={'size': 7})\n",
        "plt.axis('equal')\n",
        "plt.show()"
      ],
      "execution_count": null,
      "outputs": [
        {
          "output_type": "display_data",
          "data": {
            "image/png": "[encoded data removed]",
            "text/plain": [
              "<Figure size 792x576 with 1 Axes>"
            ]
          },
          "metadata": {
            "tags": []
          }
        }
      ]
    },
    {
      "cell_type": "code",
      "metadata": {
        "id": "o8qb1wHA_elR",
        "colab": {
          "base_uri": "https://localhost:8080/",
          "height": 142
        },
        "outputId": "12043ec2-36e4-4d8d-e781-c2456ae9c178"
      },
      "source": [
        "TertarikAfter = pd.Series(SVM_pred, name = \"Prediksi Tertarik\").astype(int)\n",
        "results = pd.concat([TertarikAfter],axis = 1)\n",
        "results.head(3)"
      ],
      "execution_count": null,
      "outputs": [
        {
          "output_type": "execute_result",
          "data": {
            "text/html": [
              "<div>\n",
              "<style scoped>\n",
              "    .dataframe tbody tr th:only-of-type {\n",
              "        vertical-align: middle;\n",
              "    }\n",
              "\n",
              "    .dataframe tbody tr th {\n",
              "        vertical-align: top;\n",
              "    }\n",
              "\n",
              "    .dataframe thead th {\n",
              "        text-align: right;\n",
              "    }\n",
              "</style>\n",
              "<table border=\"1\" class=\"dataframe\">\n",
              "  <thead>\n",
              "    <tr style=\"text-align: right;\">\n",
              "      <th></th>\n",
              "      <th>Prediksi Tertarik</th>\n",
              "    </tr>\n",
              "  </thead>\n",
              "  <tbody>\n",
              "    <tr>\n",
              "      <th>0</th>\n",
              "      <td>0</td>\n",
              "    </tr>\n",
              "    <tr>\n",
              "      <th>1</th>\n",
              "      <td>0</td>\n",
              "    </tr>\n",
              "    <tr>\n",
              "      <th>2</th>\n",
              "      <td>0</td>\n",
              "    </tr>\n",
              "  </tbody>\n",
              "</table>\n",
              "</div>"
            ],
            "text/plain": [
              "   Prediksi Tertarik\n",
              "0                  0\n",
              "1                  0\n",
              "2                  0"
            ]
          },
          "metadata": {
            "tags": []
          },
          "execution_count": 52
        }
      ]
    },
    {
      "cell_type": "code",
      "metadata": {
        "colab": {
          "base_uri": "https://localhost:8080/",
          "height": 484
        },
        "id": "7gDg_Xf2IlK9",
        "outputId": "57e6e1bb-5f9a-42dd-c4d6-5f103edac92b"
      },
      "source": [
        "tertarik = results['Prediksi Tertarik'].value_counts()\n",
        "color=['gray','rosybrown']\n",
        "\n",
        "fig1, ax1 = plt.subplots()\n",
        "ax1.pie(tertarik.values, labels=['Tertarik','Tidak Tertarik'], autopct='%1.1f%%',colors=color,startangle=10, explode=(\n",
        "    0, 0.20))\n",
        "plt.title('Sesudah prediksi', fontdict={\n",
        "          'fontname': 'Monospace', 'fontsize': 15})\n",
        "plt.legend()\n",
        "plt.legend(prop={'size': 7})\n",
        "plt.axis('equal')\n",
        "plt.show()"
      ],
      "execution_count": null,
      "outputs": [
        {
          "output_type": "display_data",
          "data": {
            "image/png": "[encoded data removed]",
            "text/plain": [
              "<Figure size 792x576 with 1 Axes>"
            ]
          },
          "metadata": {
            "tags": []
          }
        }
      ]
    },
    {
      "cell_type": "markdown",
      "metadata": {
        "id": "ZE_4McORAXVE"
      },
      "source": [
        "Terimakasi"
      ]
    }
  ]
}